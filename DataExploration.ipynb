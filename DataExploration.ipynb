{
 "cells": [
  {
   "cell_type": "markdown",
   "metadata": {},
   "source": [
    "# Heart Disease Prediction\n",
    "\n",
    "## Data Exploration\n",
    "This notebook focuses on the initial exploration of the dataset to understand its structure, data types, and potential issues. The goal is to perform a general analysis, unify the representation of missing values, and ensure that all columns have consistent and appropriate data types. Additionally, the cleaned dataset will be stored in a parquet format for further processing.\n",
    "\n",
    "`Simón Correa Marín`"
   ]
  },
  {
   "cell_type": "markdown",
   "metadata": {},
   "source": [
    "### **1. Import Libraries**"
   ]
  },
  {
   "cell_type": "code",
   "execution_count": 20,
   "metadata": {},
   "outputs": [],
   "source": [
    "# base libraries for data science\n",
    "from pathlib import Path\n",
    "import numpy as np\n",
    "import pandas as pd\n",
    "import pyarrow as pa"
   ]
  },
  {
   "cell_type": "markdown",
   "metadata": {},
   "source": [
    "### **2. Load Data**"
   ]
  },
  {
   "cell_type": "code",
   "execution_count": 21,
   "metadata": {},
   "outputs": [],
   "source": [
    "# data directory path\n",
    "DATA_DIR = Path.cwd().resolve().parents[0] / \"data\"\n",
    "\n",
    "#hd -> heart disease\n",
    "hd_df = pd.read_csv(DATA_DIR / \"01_raw/heartdisease_raw.csv\")"
   ]
  },
  {
   "cell_type": "markdown",
   "metadata": {},
   "source": [
    "### **3. Data Description**"
   ]
  },
  {
   "cell_type": "code",
   "execution_count": 22,
   "metadata": {},
   "outputs": [
    {
     "name": "stdout",
     "output_type": "stream",
     "text": [
      "<class 'pandas.core.frame.DataFrame'>\n",
      "RangeIndex: 6848 entries, 0 to 6847\n",
      "Data columns (total 14 columns):\n",
      " #   Column      Non-Null Count  Dtype  \n",
      "---  ------      --------------  -----  \n",
      " 0   rest_ecg    6403 non-null   object \n",
      " 1   ca          6482 non-null   object \n",
      " 2   thal        6557 non-null   object \n",
      " 3   max_hr      6456 non-null   object \n",
      " 4   exang       6499 non-null   object \n",
      " 5   old_peak    6496 non-null   object \n",
      " 6   chol        6649 non-null   object \n",
      " 7   rest_bp     6661 non-null   object \n",
      " 8   chest_pain  6654 non-null   object \n",
      " 9   disease     6602 non-null   object \n",
      " 10  sex         6700 non-null   object \n",
      " 11  fbs         6624 non-null   float64\n",
      " 12  slope       6495 non-null   object \n",
      " 13  age         6769 non-null   object \n",
      "dtypes: float64(1), object(13)\n",
      "memory usage: 749.1+ KB\n"
     ]
    }
   ],
   "source": [
    "hd_df.info()"
   ]
  },
  {
   "cell_type": "code",
   "execution_count": 23,
   "metadata": {},
   "outputs": [
    {
     "data": {
      "text/html": [
       "<div>\n",
       "<style scoped>\n",
       "    .dataframe tbody tr th:only-of-type {\n",
       "        vertical-align: middle;\n",
       "    }\n",
       "\n",
       "    .dataframe tbody tr th {\n",
       "        vertical-align: top;\n",
       "    }\n",
       "\n",
       "    .dataframe thead th {\n",
       "        text-align: right;\n",
       "    }\n",
       "</style>\n",
       "<table border=\"1\" class=\"dataframe\">\n",
       "  <thead>\n",
       "    <tr style=\"text-align: right;\">\n",
       "      <th></th>\n",
       "      <th>rest_ecg</th>\n",
       "      <th>ca</th>\n",
       "      <th>thal</th>\n",
       "      <th>max_hr</th>\n",
       "      <th>exang</th>\n",
       "      <th>old_peak</th>\n",
       "      <th>chol</th>\n",
       "      <th>rest_bp</th>\n",
       "      <th>chest_pain</th>\n",
       "      <th>disease</th>\n",
       "      <th>sex</th>\n",
       "      <th>fbs</th>\n",
       "      <th>slope</th>\n",
       "      <th>age</th>\n",
       "    </tr>\n",
       "  </thead>\n",
       "  <tbody>\n",
       "    <tr>\n",
       "      <th>6310</th>\n",
       "      <td>normal</td>\n",
       "      <td>0.0</td>\n",
       "      <td>reversable</td>\n",
       "      <td>131</td>\n",
       "      <td>1</td>\n",
       "      <td>1.8</td>\n",
       "      <td>309</td>\n",
       "      <td>125</td>\n",
       "      <td>nonanginal</td>\n",
       "      <td>1</td>\n",
       "      <td>Male</td>\n",
       "      <td>0.0</td>\n",
       "      <td>2</td>\n",
       "      <td>64</td>\n",
       "    </tr>\n",
       "    <tr>\n",
       "      <th>3211</th>\n",
       "      <td>normal</td>\n",
       "      <td>0.0</td>\n",
       "      <td>normal</td>\n",
       "      <td>170</td>\n",
       "      <td>0</td>\n",
       "      <td>0.0</td>\n",
       "      <td>220</td>\n",
       "      <td>120</td>\n",
       "      <td>nontypical</td>\n",
       "      <td>0</td>\n",
       "      <td>Male</td>\n",
       "      <td>0.0</td>\n",
       "      <td>1</td>\n",
       "      <td>44</td>\n",
       "    </tr>\n",
       "    <tr>\n",
       "      <th>6532</th>\n",
       "      <td>normal</td>\n",
       "      <td>0.0</td>\n",
       "      <td>normal</td>\n",
       "      <td>137</td>\n",
       "      <td>1</td>\n",
       "      <td>1.0</td>\n",
       "      <td>243</td>\n",
       "      <td>150</td>\n",
       "      <td>nonanginal</td>\n",
       "      <td>0</td>\n",
       "      <td>Male</td>\n",
       "      <td>1.0</td>\n",
       "      <td>2</td>\n",
       "      <td>61</td>\n",
       "    </tr>\n",
       "    <tr>\n",
       "      <th>6383</th>\n",
       "      <td>normal</td>\n",
       "      <td>0.0</td>\n",
       "      <td>normal</td>\n",
       "      <td>162</td>\n",
       "      <td>0</td>\n",
       "      <td>1.1</td>\n",
       "      <td>244</td>\n",
       "      <td>120</td>\n",
       "      <td>nontypical</td>\n",
       "      <td>0</td>\n",
       "      <td>Female</td>\n",
       "      <td>0.0</td>\n",
       "      <td>1</td>\n",
       "      <td>50</td>\n",
       "    </tr>\n",
       "    <tr>\n",
       "      <th>1826</th>\n",
       "      <td>normal</td>\n",
       "      <td>1.0</td>\n",
       "      <td>fixed</td>\n",
       "      <td>134</td>\n",
       "      <td>0</td>\n",
       "      <td>2.2</td>\n",
       "      <td>218</td>\n",
       "      <td>126</td>\n",
       "      <td>nonanginal</td>\n",
       "      <td>1</td>\n",
       "      <td>Male</td>\n",
       "      <td>1.0</td>\n",
       "      <td>2</td>\n",
       "      <td>59</td>\n",
       "    </tr>\n",
       "    <tr>\n",
       "      <th>771</th>\n",
       "      <td>normal</td>\n",
       "      <td>1.0</td>\n",
       "      <td>reversable</td>\n",
       "      <td>143</td>\n",
       "      <td>1</td>\n",
       "      <td>3.0</td>\n",
       "      <td>335</td>\n",
       "      <td>110</td>\n",
       "      <td>asymptomatic</td>\n",
       "      <td>1</td>\n",
       "      <td>Male</td>\n",
       "      <td>0.0</td>\n",
       "      <td>2</td>\n",
       "      <td>57</td>\n",
       "    </tr>\n",
       "    <tr>\n",
       "      <th>2432</th>\n",
       "      <td>ST-T wave abnormality</td>\n",
       "      <td>3.0</td>\n",
       "      <td>fixed</td>\n",
       "      <td>140</td>\n",
       "      <td>0</td>\n",
       "      <td>4.4</td>\n",
       "      <td>318</td>\n",
       "      <td>114</td>\n",
       "      <td>asymptomatic</td>\n",
       "      <td>1</td>\n",
       "      <td>Male</td>\n",
       "      <td>0.0</td>\n",
       "      <td>3</td>\n",
       "      <td>58</td>\n",
       "    </tr>\n",
       "    <tr>\n",
       "      <th>2393</th>\n",
       "      <td>normal</td>\n",
       "      <td>0.0</td>\n",
       "      <td>normal</td>\n",
       "      <td>165</td>\n",
       "      <td>0</td>\n",
       "      <td>0.2</td>\n",
       "      <td>213</td>\n",
       "      <td>122</td>\n",
       "      <td>nonanginal</td>\n",
       "      <td>0</td>\n",
       "      <td>Female</td>\n",
       "      <td>0.0</td>\n",
       "      <td>2</td>\n",
       "      <td>43</td>\n",
       "    </tr>\n",
       "    <tr>\n",
       "      <th>2707</th>\n",
       "      <td>left ventricular hypertrophy</td>\n",
       "      <td>3.0</td>\n",
       "      <td>reversable</td>\n",
       "      <td>154</td>\n",
       "      <td>0</td>\n",
       "      <td>4.0</td>\n",
       "      <td>407</td>\n",
       "      <td>150</td>\n",
       "      <td>asymptomatic</td>\n",
       "      <td>1</td>\n",
       "      <td>Female</td>\n",
       "      <td>0.0</td>\n",
       "      <td>2</td>\n",
       "      <td>63</td>\n",
       "    </tr>\n",
       "    <tr>\n",
       "      <th>3204</th>\n",
       "      <td>left ventricular hypertrophy</td>\n",
       "      <td>3.0</td>\n",
       "      <td>normal</td>\n",
       "      <td>109</td>\n",
       "      <td>0</td>\n",
       "      <td>2.4</td>\n",
       "      <td>322</td>\n",
       "      <td>130</td>\n",
       "      <td>asymptomatic</td>\n",
       "      <td>1</td>\n",
       "      <td>Male</td>\n",
       "      <td>0.0</td>\n",
       "      <td>2</td>\n",
       "      <td>70</td>\n",
       "    </tr>\n",
       "  </tbody>\n",
       "</table>\n",
       "</div>"
      ],
      "text/plain": [
       "                           rest_ecg   ca        thal max_hr exang old_peak  \\\n",
       "6310                         normal  0.0  reversable    131     1      1.8   \n",
       "3211                         normal  0.0      normal    170     0      0.0   \n",
       "6532                         normal  0.0      normal    137     1      1.0   \n",
       "6383                         normal  0.0      normal    162     0      1.1   \n",
       "1826                         normal  1.0       fixed    134     0      2.2   \n",
       "771                          normal  1.0  reversable    143     1      3.0   \n",
       "2432          ST-T wave abnormality  3.0       fixed    140     0      4.4   \n",
       "2393                         normal  0.0      normal    165     0      0.2   \n",
       "2707  left ventricular hypertrophy   3.0  reversable    154     0      4.0   \n",
       "3204  left ventricular hypertrophy   3.0      normal    109     0      2.4   \n",
       "\n",
       "     chol rest_bp    chest_pain disease     sex  fbs slope age  \n",
       "6310  309     125    nonanginal       1    Male  0.0     2  64  \n",
       "3211  220     120    nontypical       0    Male  0.0     1  44  \n",
       "6532  243     150    nonanginal       0    Male  1.0     2  61  \n",
       "6383  244     120    nontypical       0  Female  0.0     1  50  \n",
       "1826  218     126    nonanginal       1    Male  1.0     2  59  \n",
       "771   335     110  asymptomatic       1    Male  0.0     2  57  \n",
       "2432  318     114  asymptomatic       1    Male  0.0     3  58  \n",
       "2393  213     122    nonanginal       0  Female  0.0     2  43  \n",
       "2707  407     150  asymptomatic       1  Female  0.0     2  63  \n",
       "3204  322     130  asymptomatic       1    Male  0.0     2  70  "
      ]
     },
     "execution_count": 23,
     "metadata": {},
     "output_type": "execute_result"
    }
   ],
   "source": [
    "hd_df.sample(10)"
   ]
  },
  {
   "cell_type": "markdown",
   "metadata": {},
   "source": [
    "### **4. Null Values**"
   ]
  },
  {
   "cell_type": "code",
   "execution_count": 24,
   "metadata": {},
   "outputs": [
    {
     "data": {
      "text/plain": [
       "6848"
      ]
     },
     "execution_count": 24,
     "metadata": {},
     "output_type": "execute_result"
    }
   ],
   "source": [
    "# Dataset lenght\n",
    "len(hd_df)"
   ]
  },
  {
   "cell_type": "code",
   "execution_count": 26,
   "metadata": {},
   "outputs": [
    {
     "name": "stdout",
     "output_type": "stream",
     "text": [
      "rest_ecg: 6.498%\n",
      "ca: 5.345%\n",
      "thal: 4.249%\n",
      "max_hr: 5.724%\n",
      "exang: 5.096%\n",
      "old_peak: 5.140%\n",
      "chol: 2.906%\n",
      "rest_bp: 2.731%\n",
      "chest_pain: 2.833%\n",
      "disease: 3.592%\n",
      "sex: 2.161%\n",
      "fbs: 3.271%\n",
      "slope: 5.155%\n",
      "age: 1.154%\n"
     ]
    }
   ],
   "source": [
    "# Percentage of missing values for each column\n",
    "missing_values = hd_df.isnull().sum() * 100 / len(hd_df)\n",
    "\n",
    "for column, percentage in missing_values.items():\n",
    "    print(f\"{column}: {percentage:.3f}%\")"
   ]
  },
  {
   "cell_type": "code",
   "execution_count": 27,
   "metadata": {},
   "outputs": [
    {
     "name": "stdout",
     "output_type": "stream",
     "text": [
      "rest_ecg 0\n",
      "ca 0\n",
      "thal 0\n",
      "max_hr 0\n",
      "exang 0\n",
      "old_peak 0\n",
      "chol 0\n",
      "rest_bp 0\n",
      "chest_pain 0\n",
      "disease 0\n",
      "sex 0\n",
      "fbs 0\n",
      "slope 0\n",
      "age 0\n"
     ]
    }
   ],
   "source": [
    "#Check if there are another representation of missing values\n",
    "mv = [\"?\", \" \", \"\", \"nan\", \"N/A\", \"na\", \"NA\", \"NAN\", \"None\", \"none\", \"NONE\", \"null\", \"NULL\", \"Null\"]\n",
    "for col in hd_df.columns:\n",
    "    print(col, hd_df[col].isin(mv).sum())"
   ]
  },
  {
   "cell_type": "markdown",
   "metadata": {},
   "source": [
    "There are not other representations for missing values in the heart disease dataset.\n",
    "\n",
    "**I choose not to delete any column because the percentage of the nan values is low.**"
   ]
  },
  {
   "cell_type": "markdown",
   "metadata": {},
   "source": [
    "### **5. Data Types**"
   ]
  },
  {
   "cell_type": "markdown",
   "metadata": {},
   "source": [
    "#### **Categorical Values**\n",
    "- **Ordinal**\n",
    "    - **ca** → Number of major blood vessels (0-3) colored by fluoroscopy.\n",
    "    - **slope** → Slope of the peak exercise ST segment (1-3)\n",
    "\n",
    "- **Nominal**\n",
    "    - **chest_pain** → Type of chest pain\n",
    "        - Asymptomatic\n",
    "        - Non-anginal\n",
    "        - Atypical angina\n",
    "        - Typical angina\n",
    "    - **rest_ecg** → Resting electrocardiogram results\n",
    "        - Normal\n",
    "        - ST-T abnormality\n",
    "        - Left ventricular hypertrophy\n",
    "    - **thal** → Thalassemia test result\n",
    "        - Normal\n",
    "        - Fixed defect\n",
    "        - Reversible defect\n",
    "    - **sex** → Patient’s gender\n",
    "        - Male\n",
    "        - Female\n",
    "\n",
    "- **Boolean**\n",
    "    - **exang** → Exercise-induced angina\n",
    "        - 0 = False\n",
    "        - 1 = True\n",
    "    - **fbs** → Fasting blood sugar > 120 mg/dL\n",
    "        - 0 = False \n",
    "        - 1 = True\n",
    "    - **disease (target)** → Presence and severity of heart disease\n",
    "        - 0 = No disease (False)\n",
    "        - 1 = Disease (True)\n",
    "\n",
    "#### **Numerical Values**\n",
    "- **Discrete**\n",
    "    - **age** → Patient’s age in years.\n",
    "    - **chol** → Serum cholesterol level (mg/dL).\n",
    "    - **rest_bp** → Resting blood pressure (mmHg)\n",
    "    - **max_hr** → Maximum heart rate achieved during a stress test.\n",
    "\n",
    "- **Continous**\n",
    "    - **old_peak** → ST depression induced by exercise relative to rest."
   ]
  },
  {
   "cell_type": "markdown",
   "metadata": {},
   "source": [
    "#### **Convert data types**"
   ]
  },
  {
   "cell_type": "code",
   "execution_count": 28,
   "metadata": {},
   "outputs": [
    {
     "name": "stdout",
     "output_type": "stream",
     "text": [
      "rest_ecg ['normal' 'left ventricular hypertrophy ' nan 'ST-T wave abnormality'\n",
      " '5653' '36653' '3563' '435647']\n",
      "ca ['1.0' '0.0' '3.0' '2.0' nan 'afd']\n",
      "thal ['normal' nan 'fixed' 'reversable' '87654' '56']\n",
      "max_hr ['158' '163' '152' '115' nan '168' '190' '140' '182' '165' '125' '174'\n",
      " '117' '142' '166' '143' '194' '147' '126' '112' '139' '162' '88' '161'\n",
      " '123' '195' '164' '159' '169' '109' '122' '175' '187' '171' '99' '130'\n",
      " '127' '157' '167' '186' '145' '141' '173' '132' '136' '151' '118' '114'\n",
      " '138' '172' '155' '146' '111' '97' '170' '179' '154' '177' '90' '160'\n",
      " '108' '133' '180' '137' '156' '150' '131' '202' '144' '105' '96' '103'\n",
      " '153' '181' '121' '185' '188' '120' '184' '178' '192' '116' '113' '148'\n",
      " '128' '106' '95' '129' '149' '71' '134' '124' 'adfs']\n",
      "exang ['0' '1' nan 'adfs' 'f']\n",
      "old_peak ['0.8' '0.6' '0.0' '4.4' '1.0' '3.4' '1.6' '1.2' '0.5' '1.9' '2.9' '2.0'\n",
      " '1.4' '0.2' '0.1' nan '0.4' '3.6' '3.8' '2.2' '4.2' '3.5' '0.9' '1.8'\n",
      " '3.0' '2.8' '2.6' '5.6' '0.3' '4.0' '2.3' '2.5' '2.1' '3.1' '2.4' '0.7'\n",
      " '1.3' '1.5' '3.2' '6.2' '1.1' 'asd']\n",
      "chol ['201' '354' '243' '216' nan '198' '186' '318' '271' '209' '228' '273'\n",
      " '192' '327' '232' '239' '274' '249' '240' '309' '207' '196' '149' '269'\n",
      " '188' '295' '172' '250' '241' '283' '221' '204' '254' '177' '260' '231'\n",
      " '226' '322' '266' '298' '234' '304' '258' '236' '267' '214' '256' '259'\n",
      " '261' '219' '175' '353' '197' '277' '265' '275' '193' '225' '340' '205'\n",
      " '262' '217' '263' '268' '215' '199' '176' '245' '330' '141' '212' '335'\n",
      " '206' '289' '288' '417' '299' '160' '233' '195' '284' '246' '307' '213'\n",
      " '230' '248' '255' '178' '305' '319' '290' '223' '293' '300' '208' '166'\n",
      " '167' '276' '184' '244' '203' '222' '174' '229' '308' '210' '211' '270'\n",
      " '341' '253' '294' '264' '180' '252' '224' '286' '220' '182' '407' '164'\n",
      " '157' '187' '281' '235' '302' '303' '278' '247' '227' '282' '326' '325'\n",
      " '360' '315' '564' '131' '311' '242' '237' '218' '126' '409' '168' '313'\n",
      " '185' '169' '321' '200' '394' '257' '306' 'sfdywe' '183' 'wtey' '342']\n",
      "rest_bp ['134' '120' '108' '128' nan '105' '118' '114' '138' '124' '178' '160'\n",
      " '122' '180' '150' '110' '174' '142' '132' '129' '152' '135' '140' '192'\n",
      " '112' '102' '130' '125' '94' '164' '156' '200' '145' '100' '158' '136'\n",
      " '115' '148' '170' '154' '106' '172' 'fsgh' '146' '123' '155' '101' '144'\n",
      " '104' '126' '165' '117' 'wety']\n",
      "chest_pain ['nontypical' 'asymptomatic' 'nonanginal' nan 'typical' '2435' '3456']\n",
      "disease ['0' '1' nan 'fsg' 'gsfdg' 'fsdg' 'g']\n",
      "sex ['Male' 'Female' nan '765' '2345' '45']\n",
      "fbs [ 0. nan  1.]\n",
      "slope ['1' '2' '3' nan 'afd']\n",
      "age ['52' '57' '47' '53' '46' '41' '58' '59' '62' '66' '35' '55' '54' '48'\n",
      " '56' '42' '45' '50' '49' '70' '60' '65' '61' '38' '44' '51' '77' '37'\n",
      " '39' '63' '68' nan '64' '69' '29' '67' '40' '74' '43' '71' '34' 'sdg'\n",
      " '76' 'fggfds']\n"
     ]
    }
   ],
   "source": [
    "#Unique values for each column\n",
    "for col in hd_df.columns:\n",
    "    print(col, hd_df[col].unique())"
   ]
  },
  {
   "cell_type": "markdown",
   "metadata": {},
   "source": [
    "There are strange values in the variables, we'll handle them. "
   ]
  }
 ],
 "metadata": {
  "kernelspec": {
   "display_name": "senv",
   "language": "python",
   "name": "python3"
  },
  "language_info": {
   "codemirror_mode": {
    "name": "ipython",
    "version": 3
   },
   "file_extension": ".py",
   "mimetype": "text/x-python",
   "name": "python",
   "nbconvert_exporter": "python",
   "pygments_lexer": "ipython3",
   "version": "3.12.9"
  }
 },
 "nbformat": 4,
 "nbformat_minor": 2
}
