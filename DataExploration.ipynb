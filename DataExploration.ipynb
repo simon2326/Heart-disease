{
 "cells": [
  {
   "cell_type": "markdown",
   "metadata": {},
   "source": [
    "# Heart Disease Prediction\n",
    "\n",
    "## Data Exploration\n",
    "This notebook focuses on the initial exploration of the dataset to understand its structure, data types, and potential issues. The goal is to perform a general analysis, unify the representation of missing values, and ensure that all columns have consistent and appropriate data types. Additionally, the cleaned dataset will be stored in a parquet format for further processing.\n",
    "\n",
    "`Simón Correa Marín`"
   ]
  },
  {
   "cell_type": "markdown",
   "metadata": {},
   "source": [
    "### **1. Import Libraries**"
   ]
  },
  {
   "cell_type": "code",
   "execution_count": 1,
   "metadata": {},
   "outputs": [],
   "source": [
    "# base libraries for data science\n",
    "from pathlib import Path\n",
    "\n",
    "import numpy as np\n",
    "import pandas as pd\n",
    "import pyarrow as pa"
   ]
  },
  {
   "cell_type": "markdown",
   "metadata": {},
   "source": [
    "### **2. Load Data**"
   ]
  },
  {
   "cell_type": "code",
   "execution_count": 2,
   "metadata": {},
   "outputs": [],
   "source": [
    "# data directory path\n",
    "DATA_DIR = Path.cwd().resolve().parents[0] / \"data\"\n",
    "\n",
    "# hd -> heart disease\n",
    "hd_df = pd.read_csv(DATA_DIR / \"01_raw/heartdisease_raw.csv\")"
   ]
  },
  {
   "cell_type": "markdown",
   "metadata": {},
   "source": [
    "### **3. Data Description**"
   ]
  },
  {
   "cell_type": "code",
   "execution_count": 3,
   "metadata": {},
   "outputs": [
    {
     "name": "stdout",
     "output_type": "stream",
     "text": [
      "<class 'pandas.core.frame.DataFrame'>\n",
      "RangeIndex: 6848 entries, 0 to 6847\n",
      "Data columns (total 14 columns):\n",
      " #   Column      Non-Null Count  Dtype  \n",
      "---  ------      --------------  -----  \n",
      " 0   rest_ecg    6403 non-null   object \n",
      " 1   ca          6482 non-null   object \n",
      " 2   thal        6557 non-null   object \n",
      " 3   max_hr      6456 non-null   object \n",
      " 4   exang       6499 non-null   object \n",
      " 5   old_peak    6496 non-null   object \n",
      " 6   chol        6649 non-null   object \n",
      " 7   rest_bp     6661 non-null   object \n",
      " 8   chest_pain  6654 non-null   object \n",
      " 9   disease     6602 non-null   object \n",
      " 10  sex         6700 non-null   object \n",
      " 11  fbs         6624 non-null   float64\n",
      " 12  slope       6495 non-null   object \n",
      " 13  age         6769 non-null   object \n",
      "dtypes: float64(1), object(13)\n",
      "memory usage: 749.1+ KB\n"
     ]
    }
   ],
   "source": [
    "hd_df.info()"
   ]
  },
  {
   "cell_type": "code",
   "execution_count": 4,
   "metadata": {},
   "outputs": [
    {
     "data": {
      "text/html": [
       "<div>\n",
       "<style scoped>\n",
       "    .dataframe tbody tr th:only-of-type {\n",
       "        vertical-align: middle;\n",
       "    }\n",
       "\n",
       "    .dataframe tbody tr th {\n",
       "        vertical-align: top;\n",
       "    }\n",
       "\n",
       "    .dataframe thead th {\n",
       "        text-align: right;\n",
       "    }\n",
       "</style>\n",
       "<table border=\"1\" class=\"dataframe\">\n",
       "  <thead>\n",
       "    <tr style=\"text-align: right;\">\n",
       "      <th></th>\n",
       "      <th>rest_ecg</th>\n",
       "      <th>ca</th>\n",
       "      <th>thal</th>\n",
       "      <th>max_hr</th>\n",
       "      <th>exang</th>\n",
       "      <th>old_peak</th>\n",
       "      <th>chol</th>\n",
       "      <th>rest_bp</th>\n",
       "      <th>chest_pain</th>\n",
       "      <th>disease</th>\n",
       "      <th>sex</th>\n",
       "      <th>fbs</th>\n",
       "      <th>slope</th>\n",
       "      <th>age</th>\n",
       "    </tr>\n",
       "  </thead>\n",
       "  <tbody>\n",
       "    <tr>\n",
       "      <th>5321</th>\n",
       "      <td>normal</td>\n",
       "      <td>0.0</td>\n",
       "      <td>normal</td>\n",
       "      <td>181</td>\n",
       "      <td>0</td>\n",
       "      <td>1.2</td>\n",
       "      <td>303</td>\n",
       "      <td>115</td>\n",
       "      <td>asymptomatic</td>\n",
       "      <td>0</td>\n",
       "      <td>Male</td>\n",
       "      <td>0.0</td>\n",
       "      <td>2</td>\n",
       "      <td>43</td>\n",
       "    </tr>\n",
       "    <tr>\n",
       "      <th>3274</th>\n",
       "      <td>NaN</td>\n",
       "      <td>3.0</td>\n",
       "      <td>reversable</td>\n",
       "      <td>NaN</td>\n",
       "      <td>1</td>\n",
       "      <td>0.0</td>\n",
       "      <td>NaN</td>\n",
       "      <td>NaN</td>\n",
       "      <td>NaN</td>\n",
       "      <td>1</td>\n",
       "      <td>NaN</td>\n",
       "      <td>NaN</td>\n",
       "      <td>2</td>\n",
       "      <td>45</td>\n",
       "    </tr>\n",
       "    <tr>\n",
       "      <th>1576</th>\n",
       "      <td>left ventricular hypertrophy</td>\n",
       "      <td>1.0</td>\n",
       "      <td>normal</td>\n",
       "      <td>153</td>\n",
       "      <td>0</td>\n",
       "      <td>0.0</td>\n",
       "      <td>290</td>\n",
       "      <td>112</td>\n",
       "      <td>asymptomatic</td>\n",
       "      <td>1</td>\n",
       "      <td>Male</td>\n",
       "      <td>0.0</td>\n",
       "      <td>1</td>\n",
       "      <td>44</td>\n",
       "    </tr>\n",
       "    <tr>\n",
       "      <th>4877</th>\n",
       "      <td>left ventricular hypertrophy</td>\n",
       "      <td>2.0</td>\n",
       "      <td>reversable</td>\n",
       "      <td>170</td>\n",
       "      <td>0</td>\n",
       "      <td>1.2</td>\n",
       "      <td>293</td>\n",
       "      <td>140</td>\n",
       "      <td>asymptomatic</td>\n",
       "      <td>1</td>\n",
       "      <td>Male</td>\n",
       "      <td>0.0</td>\n",
       "      <td>2</td>\n",
       "      <td>60</td>\n",
       "    </tr>\n",
       "    <tr>\n",
       "      <th>2129</th>\n",
       "      <td>left ventricular hypertrophy</td>\n",
       "      <td>0.0</td>\n",
       "      <td>normal</td>\n",
       "      <td>160</td>\n",
       "      <td>0</td>\n",
       "      <td>0.0</td>\n",
       "      <td>234</td>\n",
       "      <td>138</td>\n",
       "      <td>asymptomatic</td>\n",
       "      <td>0</td>\n",
       "      <td>Female</td>\n",
       "      <td>0.0</td>\n",
       "      <td>1</td>\n",
       "      <td>53</td>\n",
       "    </tr>\n",
       "    <tr>\n",
       "      <th>3139</th>\n",
       "      <td>normal</td>\n",
       "      <td>0.0</td>\n",
       "      <td>normal</td>\n",
       "      <td>170</td>\n",
       "      <td>0</td>\n",
       "      <td>0.0</td>\n",
       "      <td>215</td>\n",
       "      <td>120</td>\n",
       "      <td>nonanginal</td>\n",
       "      <td>0</td>\n",
       "      <td>Female</td>\n",
       "      <td>0.0</td>\n",
       "      <td>1</td>\n",
       "      <td>37</td>\n",
       "    </tr>\n",
       "    <tr>\n",
       "      <th>1936</th>\n",
       "      <td>left ventricular hypertrophy</td>\n",
       "      <td>0.0</td>\n",
       "      <td>normal</td>\n",
       "      <td>144</td>\n",
       "      <td>1</td>\n",
       "      <td>1.8</td>\n",
       "      <td>211</td>\n",
       "      <td>110</td>\n",
       "      <td>typical</td>\n",
       "      <td>0</td>\n",
       "      <td>Male</td>\n",
       "      <td>0.0</td>\n",
       "      <td>2</td>\n",
       "      <td>64</td>\n",
       "    </tr>\n",
       "    <tr>\n",
       "      <th>5140</th>\n",
       "      <td>left ventricular hypertrophy</td>\n",
       "      <td>1.0</td>\n",
       "      <td>normal</td>\n",
       "      <td>132</td>\n",
       "      <td>1</td>\n",
       "      <td>0.1</td>\n",
       "      <td>212</td>\n",
       "      <td>112</td>\n",
       "      <td>asymptomatic</td>\n",
       "      <td>1</td>\n",
       "      <td>Male</td>\n",
       "      <td>0.0</td>\n",
       "      <td>1</td>\n",
       "      <td>66</td>\n",
       "    </tr>\n",
       "    <tr>\n",
       "      <th>4214</th>\n",
       "      <td>normal</td>\n",
       "      <td>1.0</td>\n",
       "      <td>reversable</td>\n",
       "      <td>151</td>\n",
       "      <td>0</td>\n",
       "      <td>1.0</td>\n",
       "      <td>277</td>\n",
       "      <td>118</td>\n",
       "      <td>nonanginal</td>\n",
       "      <td>0</td>\n",
       "      <td>Male</td>\n",
       "      <td>0.0</td>\n",
       "      <td>1</td>\n",
       "      <td>68</td>\n",
       "    </tr>\n",
       "    <tr>\n",
       "      <th>1663</th>\n",
       "      <td>NaN</td>\n",
       "      <td>0.0</td>\n",
       "      <td>normal</td>\n",
       "      <td>NaN</td>\n",
       "      <td>0</td>\n",
       "      <td>0.0</td>\n",
       "      <td>NaN</td>\n",
       "      <td>NaN</td>\n",
       "      <td>NaN</td>\n",
       "      <td>0</td>\n",
       "      <td>NaN</td>\n",
       "      <td>NaN</td>\n",
       "      <td>1</td>\n",
       "      <td>46</td>\n",
       "    </tr>\n",
       "  </tbody>\n",
       "</table>\n",
       "</div>"
      ],
      "text/plain": [
       "                           rest_ecg   ca        thal max_hr exang old_peak  \\\n",
       "5321                         normal  0.0      normal    181     0      1.2   \n",
       "3274                            NaN  3.0  reversable    NaN     1      0.0   \n",
       "1576  left ventricular hypertrophy   1.0      normal    153     0      0.0   \n",
       "4877  left ventricular hypertrophy   2.0  reversable    170     0      1.2   \n",
       "2129  left ventricular hypertrophy   0.0      normal    160     0      0.0   \n",
       "3139                         normal  0.0      normal    170     0      0.0   \n",
       "1936  left ventricular hypertrophy   0.0      normal    144     1      1.8   \n",
       "5140  left ventricular hypertrophy   1.0      normal    132     1      0.1   \n",
       "4214                         normal  1.0  reversable    151     0      1.0   \n",
       "1663                            NaN  0.0      normal    NaN     0      0.0   \n",
       "\n",
       "     chol rest_bp    chest_pain disease     sex  fbs slope age  \n",
       "5321  303     115  asymptomatic       0    Male  0.0     2  43  \n",
       "3274  NaN     NaN           NaN       1     NaN  NaN     2  45  \n",
       "1576  290     112  asymptomatic       1    Male  0.0     1  44  \n",
       "4877  293     140  asymptomatic       1    Male  0.0     2  60  \n",
       "2129  234     138  asymptomatic       0  Female  0.0     1  53  \n",
       "3139  215     120    nonanginal       0  Female  0.0     1  37  \n",
       "1936  211     110       typical       0    Male  0.0     2  64  \n",
       "5140  212     112  asymptomatic       1    Male  0.0     1  66  \n",
       "4214  277     118    nonanginal       0    Male  0.0     1  68  \n",
       "1663  NaN     NaN           NaN       0     NaN  NaN     1  46  "
      ]
     },
     "execution_count": 4,
     "metadata": {},
     "output_type": "execute_result"
    }
   ],
   "source": [
    "hd_df.sample(10)"
   ]
  },
  {
   "cell_type": "markdown",
   "metadata": {},
   "source": [
    "### **4. Null Values**"
   ]
  },
  {
   "cell_type": "code",
   "execution_count": 5,
   "metadata": {},
   "outputs": [
    {
     "data": {
      "text/plain": [
       "6848"
      ]
     },
     "execution_count": 5,
     "metadata": {},
     "output_type": "execute_result"
    }
   ],
   "source": [
    "# Dataset lenght\n",
    "len(hd_df)"
   ]
  },
  {
   "cell_type": "code",
   "execution_count": 6,
   "metadata": {},
   "outputs": [
    {
     "name": "stdout",
     "output_type": "stream",
     "text": [
      "rest_ecg: 6.498%\n",
      "ca: 5.345%\n",
      "thal: 4.249%\n",
      "max_hr: 5.724%\n",
      "exang: 5.096%\n",
      "old_peak: 5.140%\n",
      "chol: 2.906%\n",
      "rest_bp: 2.731%\n",
      "chest_pain: 2.833%\n",
      "disease: 3.592%\n",
      "sex: 2.161%\n",
      "fbs: 3.271%\n",
      "slope: 5.155%\n",
      "age: 1.154%\n"
     ]
    }
   ],
   "source": [
    "# Percentage of missing values for each column\n",
    "missing_values = hd_df.isnull().sum() * 100 / len(hd_df)\n",
    "\n",
    "for column, percentage in missing_values.items():\n",
    "    print(f\"{column}: {percentage:.3f}%\")"
   ]
  },
  {
   "cell_type": "code",
   "execution_count": 7,
   "metadata": {},
   "outputs": [
    {
     "name": "stdout",
     "output_type": "stream",
     "text": [
      "rest_ecg 0\n",
      "ca 0\n",
      "thal 0\n",
      "max_hr 0\n",
      "exang 0\n",
      "old_peak 0\n",
      "chol 0\n",
      "rest_bp 0\n",
      "chest_pain 0\n",
      "disease 0\n",
      "sex 0\n",
      "fbs 0\n",
      "slope 0\n",
      "age 0\n"
     ]
    }
   ],
   "source": [
    "# Check if there are another representation of missing values\n",
    "mv = [\"?\", \" \", \"\", \"nan\", \"N/A\", \"na\", \"NA\", \"NAN\", \"None\", \"none\", \"NONE\", \"null\", \"NULL\", \"Null\"]\n",
    "for col in hd_df.columns:\n",
    "    print(col, hd_df[col].isin(mv).sum())"
   ]
  },
  {
   "cell_type": "markdown",
   "metadata": {},
   "source": [
    "There are not other representations for missing values in the heart disease dataset.\n",
    "\n",
    "**I choose not to delete any column because the percentage of the nan values is low.**"
   ]
  },
  {
   "cell_type": "markdown",
   "metadata": {},
   "source": [
    "### **5. Data Types**"
   ]
  },
  {
   "cell_type": "markdown",
   "metadata": {},
   "source": [
    "#### **Categorical Values**\n",
    "- **Ordinal**\n",
    "    - **ca** → Number of major blood vessels (0-3) colored by fluoroscopy.\n",
    "    - **slope** → Slope of the peak exercise ST segment (1-3)\n",
    "\n",
    "- **Nominal**\n",
    "    - **chest_pain** → Type of chest pain\n",
    "        - Asymptomatic\n",
    "        - Non-anginal\n",
    "        - Atypical angina\n",
    "        - Typical angina\n",
    "    - **rest_ecg** → Resting electrocardiogram results\n",
    "        - Normal\n",
    "        - ST-T abnormality\n",
    "        - Left ventricular hypertrophy\n",
    "    - **thal** → Thalassemia test result\n",
    "        - Normal\n",
    "        - Fixed defect\n",
    "        - Reversible defect\n",
    "    - **sex** → Patient’s gender\n",
    "        - Male\n",
    "        - Female\n",
    "\n",
    "- **Boolean**\n",
    "    - **exang** → Exercise-induced angina\n",
    "        - 0 = False\n",
    "        - 1 = True\n",
    "    - **fbs** → Fasting blood sugar > 120 mg/dL\n",
    "        - 0 = False \n",
    "        - 1 = True\n",
    "    - **disease (target)** → Presence and severity of heart disease\n",
    "        - 0 = No disease (False)\n",
    "        - 1 = Disease (True)\n",
    "\n",
    "#### **Numerical Values**\n",
    "- **Discrete**\n",
    "    - **age** → Patient’s age in years.\n",
    "    - **chol** → Serum cholesterol level (mg/dL).\n",
    "    - **rest_bp** → Resting blood pressure (mmHg)\n",
    "    - **max_hr** → Maximum heart rate achieved during a stress test.\n",
    "\n",
    "- **Continous**\n",
    "    - **old_peak** → ST depression induced by exercise relative to rest."
   ]
  },
  {
   "cell_type": "markdown",
   "metadata": {},
   "source": [
    "#### **Convert data types**"
   ]
  },
  {
   "cell_type": "code",
   "execution_count": 8,
   "metadata": {},
   "outputs": [
    {
     "name": "stdout",
     "output_type": "stream",
     "text": [
      "rest_ecg ['normal' 'left ventricular hypertrophy ' nan 'ST-T wave abnormality'\n",
      " '5653' '36653' '3563' '435647']\n",
      "ca ['1.0' '0.0' '3.0' '2.0' nan 'afd']\n",
      "thal ['normal' nan 'fixed' 'reversable' '87654' '56']\n",
      "max_hr ['158' '163' '152' '115' nan '168' '190' '140' '182' '165' '125' '174'\n",
      " '117' '142' '166' '143' '194' '147' '126' '112' '139' '162' '88' '161'\n",
      " '123' '195' '164' '159' '169' '109' '122' '175' '187' '171' '99' '130'\n",
      " '127' '157' '167' '186' '145' '141' '173' '132' '136' '151' '118' '114'\n",
      " '138' '172' '155' '146' '111' '97' '170' '179' '154' '177' '90' '160'\n",
      " '108' '133' '180' '137' '156' '150' '131' '202' '144' '105' '96' '103'\n",
      " '153' '181' '121' '185' '188' '120' '184' '178' '192' '116' '113' '148'\n",
      " '128' '106' '95' '129' '149' '71' '134' '124' 'adfs']\n",
      "exang ['0' '1' nan 'adfs' 'f']\n",
      "old_peak ['0.8' '0.6' '0.0' '4.4' '1.0' '3.4' '1.6' '1.2' '0.5' '1.9' '2.9' '2.0'\n",
      " '1.4' '0.2' '0.1' nan '0.4' '3.6' '3.8' '2.2' '4.2' '3.5' '0.9' '1.8'\n",
      " '3.0' '2.8' '2.6' '5.6' '0.3' '4.0' '2.3' '2.5' '2.1' '3.1' '2.4' '0.7'\n",
      " '1.3' '1.5' '3.2' '6.2' '1.1' 'asd']\n",
      "chol ['201' '354' '243' '216' nan '198' '186' '318' '271' '209' '228' '273'\n",
      " '192' '327' '232' '239' '274' '249' '240' '309' '207' '196' '149' '269'\n",
      " '188' '295' '172' '250' '241' '283' '221' '204' '254' '177' '260' '231'\n",
      " '226' '322' '266' '298' '234' '304' '258' '236' '267' '214' '256' '259'\n",
      " '261' '219' '175' '353' '197' '277' '265' '275' '193' '225' '340' '205'\n",
      " '262' '217' '263' '268' '215' '199' '176' '245' '330' '141' '212' '335'\n",
      " '206' '289' '288' '417' '299' '160' '233' '195' '284' '246' '307' '213'\n",
      " '230' '248' '255' '178' '305' '319' '290' '223' '293' '300' '208' '166'\n",
      " '167' '276' '184' '244' '203' '222' '174' '229' '308' '210' '211' '270'\n",
      " '341' '253' '294' '264' '180' '252' '224' '286' '220' '182' '407' '164'\n",
      " '157' '187' '281' '235' '302' '303' '278' '247' '227' '282' '326' '325'\n",
      " '360' '315' '564' '131' '311' '242' '237' '218' '126' '409' '168' '313'\n",
      " '185' '169' '321' '200' '394' '257' '306' 'sfdywe' '183' 'wtey' '342']\n",
      "rest_bp ['134' '120' '108' '128' nan '105' '118' '114' '138' '124' '178' '160'\n",
      " '122' '180' '150' '110' '174' '142' '132' '129' '152' '135' '140' '192'\n",
      " '112' '102' '130' '125' '94' '164' '156' '200' '145' '100' '158' '136'\n",
      " '115' '148' '170' '154' '106' '172' 'fsgh' '146' '123' '155' '101' '144'\n",
      " '104' '126' '165' '117' 'wety']\n",
      "chest_pain ['nontypical' 'asymptomatic' 'nonanginal' nan 'typical' '2435' '3456']\n",
      "disease ['0' '1' nan 'fsg' 'gsfdg' 'fsdg' 'g']\n",
      "sex ['Male' 'Female' nan '765' '2345' '45']\n",
      "fbs [ 0. nan  1.]\n",
      "slope ['1' '2' '3' nan 'afd']\n",
      "age ['52' '57' '47' '53' '46' '41' '58' '59' '62' '66' '35' '55' '54' '48'\n",
      " '56' '42' '45' '50' '49' '70' '60' '65' '61' '38' '44' '51' '77' '37'\n",
      " '39' '63' '68' nan '64' '69' '29' '67' '40' '74' '43' '71' '34' 'sdg'\n",
      " '76' 'fggfds']\n"
     ]
    }
   ],
   "source": [
    "# Unique values for each column\n",
    "for col in hd_df.columns:\n",
    "    print(col, hd_df[col].unique())"
   ]
  },
  {
   "cell_type": "markdown",
   "metadata": {},
   "source": [
    "There are strange values in the variables, we'll handle them. "
   ]
  },
  {
   "cell_type": "code",
   "execution_count": 9,
   "metadata": {},
   "outputs": [],
   "source": [
    "categorical_cols = [\"chest_pain\", \"slope\", \"ca\", \"rest_ecg\", \"thal\", \"sex\"]\n",
    "boolean_cols = [\"exang\", \"fbs\", \"disease\"]\n",
    "disc_numerical_cols = [\"age\", \"max_hr\", \"chol\", \"rest_bp\"]\n",
    "cont_numerical_cols = [\"old_peak\"]"
   ]
  },
  {
   "cell_type": "code",
   "execution_count": null,
   "metadata": {},
   "outputs": [],
   "source": [
    "# Cleaning numerical and boolean columns that have string values\n",
    "\n",
    "# disease, ca, slope, old_peak and exang has not numerical values so we have to convert it to numeric\n",
    "hd_df[[\"disease\", \"ca\", \"slope\", \"exang\", \"old_peak\"]] = hd_df[\n",
    "    [\"disease\", \"ca\", \"slope\", \"exang\", \"old_peak\"]\n",
    "].apply(pd.to_numeric, errors=\"coerce\")\n",
    "\n",
    "# Convert all discrete numerical columns to numbers\n",
    "hd_df[disc_numerical_cols] = hd_df[disc_numerical_cols].apply(pd.to_numeric, errors=\"coerce\")\n",
    "\n",
    "# Take strings away\n",
    "for col in disc_numerical_cols + cont_numerical_cols + boolean_cols:\n",
    "    hd_df[col] = hd_df[col].apply(lambda x: x if isinstance(x, (int, float)) else np.nan)"
   ]
  },
  {
   "cell_type": "code",
   "execution_count": 11,
   "metadata": {},
   "outputs": [],
   "source": [
    "# Cleaning categorical columns that have numeric values\n",
    "# Take numeric values away\n",
    "for col in categorical_cols:\n",
    "    if col not in [\"ca\", \"slope\"]:  # ca and slope are an ordinal columns\n",
    "        hd_df[col] = hd_df[col].apply(\n",
    "            lambda x: x if isinstance(x, str) and not x.isnumeric() else np.nan\n",
    "        )"
   ]
  },
  {
   "cell_type": "code",
   "execution_count": 12,
   "metadata": {},
   "outputs": [],
   "source": [
    "# Categorical\n",
    "hd_df[categorical_cols] = hd_df[categorical_cols].astype(\"category\")\n",
    "\n",
    "# Boolean\n",
    "hd_df[boolean_cols] = hd_df[boolean_cols].astype(\"bool\")\n",
    "\n",
    "# Discrete numerical (must be int64 but we have nan value so we'll change it in a future process)\n",
    "hd_df[disc_numerical_cols] = hd_df[disc_numerical_cols].astype(\"float\")\n",
    "\n",
    "# Continuous numerical\n",
    "hd_df[cont_numerical_cols] = hd_df[cont_numerical_cols].astype(\"float\")"
   ]
  },
  {
   "cell_type": "code",
   "execution_count": 13,
   "metadata": {},
   "outputs": [
    {
     "name": "stdout",
     "output_type": "stream",
     "text": [
      "rest_ecg ['normal', 'left ventricular hypertrophy ', NaN, 'ST-T wave abnormality']\n",
      "Categories (3, object): ['ST-T wave abnormality', 'left ventricular hypertrophy ', 'normal']\n",
      "ca [1.0, 0.0, 3.0, 2.0, NaN]\n",
      "Categories (4, float64): [0.0, 1.0, 2.0, 3.0]\n",
      "thal ['normal', NaN, 'fixed', 'reversable']\n",
      "Categories (3, object): ['fixed', 'normal', 'reversable']\n",
      "chest_pain ['nontypical', 'asymptomatic', 'nonanginal', NaN, 'typical']\n",
      "Categories (4, object): ['asymptomatic', 'nonanginal', 'nontypical', 'typical']\n",
      "sex ['Male', 'Female', NaN]\n",
      "Categories (2, object): ['Female', 'Male']\n",
      "slope [1.0, 2.0, 3.0, NaN]\n",
      "Categories (3, float64): [1.0, 2.0, 3.0]\n"
     ]
    }
   ],
   "source": [
    "# Unique values for each categorical column\n",
    "for col in hd_df.select_dtypes(include=\"category\").columns:\n",
    "    print(col, hd_df[col].unique())"
   ]
  },
  {
   "cell_type": "code",
   "execution_count": null,
   "metadata": {},
   "outputs": [
    {
     "name": "stdout",
     "output_type": "stream",
     "text": [
      "exang [False  True]\n",
      "disease [False  True]\n",
      "fbs [False  True]\n"
     ]
    }
   ],
   "source": [
    "# Unique values for each boolean column\n",
    "for col in hd_df.select_dtypes(include=\"boolean\").columns:\n",
    "    print(col, hd_df[col].unique())"
   ]
  },
  {
   "cell_type": "code",
   "execution_count": 15,
   "metadata": {},
   "outputs": [
    {
     "data": {
      "text/html": [
       "<div>\n",
       "<style scoped>\n",
       "    .dataframe tbody tr th:only-of-type {\n",
       "        vertical-align: middle;\n",
       "    }\n",
       "\n",
       "    .dataframe tbody tr th {\n",
       "        vertical-align: top;\n",
       "    }\n",
       "\n",
       "    .dataframe thead th {\n",
       "        text-align: right;\n",
       "    }\n",
       "</style>\n",
       "<table border=\"1\" class=\"dataframe\">\n",
       "  <thead>\n",
       "    <tr style=\"text-align: right;\">\n",
       "      <th></th>\n",
       "      <th>max_hr</th>\n",
       "      <th>old_peak</th>\n",
       "      <th>chol</th>\n",
       "      <th>rest_bp</th>\n",
       "      <th>age</th>\n",
       "    </tr>\n",
       "  </thead>\n",
       "  <tbody>\n",
       "    <tr>\n",
       "      <th>count</th>\n",
       "      <td>6453.000000</td>\n",
       "      <td>6493.000000</td>\n",
       "      <td>6643.000000</td>\n",
       "      <td>6655.000000</td>\n",
       "      <td>6763.000000</td>\n",
       "    </tr>\n",
       "    <tr>\n",
       "      <th>mean</th>\n",
       "      <td>149.805207</td>\n",
       "      <td>1.027768</td>\n",
       "      <td>246.340659</td>\n",
       "      <td>131.696018</td>\n",
       "      <td>54.434866</td>\n",
       "    </tr>\n",
       "    <tr>\n",
       "      <th>std</th>\n",
       "      <td>22.708598</td>\n",
       "      <td>1.166625</td>\n",
       "      <td>50.071028</td>\n",
       "      <td>17.550220</td>\n",
       "      <td>9.003089</td>\n",
       "    </tr>\n",
       "    <tr>\n",
       "      <th>min</th>\n",
       "      <td>71.000000</td>\n",
       "      <td>0.000000</td>\n",
       "      <td>126.000000</td>\n",
       "      <td>94.000000</td>\n",
       "      <td>29.000000</td>\n",
       "    </tr>\n",
       "    <tr>\n",
       "      <th>25%</th>\n",
       "      <td>134.000000</td>\n",
       "      <td>0.000000</td>\n",
       "      <td>212.000000</td>\n",
       "      <td>120.000000</td>\n",
       "      <td>48.000000</td>\n",
       "    </tr>\n",
       "    <tr>\n",
       "      <th>50%</th>\n",
       "      <td>153.000000</td>\n",
       "      <td>0.600000</td>\n",
       "      <td>241.000000</td>\n",
       "      <td>130.000000</td>\n",
       "      <td>56.000000</td>\n",
       "    </tr>\n",
       "    <tr>\n",
       "      <th>75%</th>\n",
       "      <td>166.000000</td>\n",
       "      <td>1.600000</td>\n",
       "      <td>275.000000</td>\n",
       "      <td>140.000000</td>\n",
       "      <td>61.000000</td>\n",
       "    </tr>\n",
       "    <tr>\n",
       "      <th>max</th>\n",
       "      <td>202.000000</td>\n",
       "      <td>6.200000</td>\n",
       "      <td>564.000000</td>\n",
       "      <td>200.000000</td>\n",
       "      <td>77.000000</td>\n",
       "    </tr>\n",
       "  </tbody>\n",
       "</table>\n",
       "</div>"
      ],
      "text/plain": [
       "            max_hr     old_peak         chol      rest_bp          age\n",
       "count  6453.000000  6493.000000  6643.000000  6655.000000  6763.000000\n",
       "mean    149.805207     1.027768   246.340659   131.696018    54.434866\n",
       "std      22.708598     1.166625    50.071028    17.550220     9.003089\n",
       "min      71.000000     0.000000   126.000000    94.000000    29.000000\n",
       "25%     134.000000     0.000000   212.000000   120.000000    48.000000\n",
       "50%     153.000000     0.600000   241.000000   130.000000    56.000000\n",
       "75%     166.000000     1.600000   275.000000   140.000000    61.000000\n",
       "max     202.000000     6.200000   564.000000   200.000000    77.000000"
      ]
     },
     "execution_count": 15,
     "metadata": {},
     "output_type": "execute_result"
    }
   ],
   "source": [
    "# Numerical columns overview\n",
    "hd_df.describe()"
   ]
  },
  {
   "cell_type": "code",
   "execution_count": 16,
   "metadata": {},
   "outputs": [
    {
     "name": "stdout",
     "output_type": "stream",
     "text": [
      "<class 'pandas.core.frame.DataFrame'>\n",
      "RangeIndex: 6848 entries, 0 to 6847\n",
      "Data columns (total 14 columns):\n",
      " #   Column      Non-Null Count  Dtype   \n",
      "---  ------      --------------  -----   \n",
      " 0   rest_ecg    6392 non-null   category\n",
      " 1   ca          6479 non-null   category\n",
      " 2   thal        6552 non-null   category\n",
      " 3   max_hr      6453 non-null   float64 \n",
      " 4   exang       6848 non-null   bool    \n",
      " 5   old_peak    6493 non-null   float64 \n",
      " 6   chol        6643 non-null   float64 \n",
      " 7   rest_bp     6655 non-null   float64 \n",
      " 8   chest_pain  6648 non-null   category\n",
      " 9   disease     6848 non-null   bool    \n",
      " 10  sex         6692 non-null   category\n",
      " 11  fbs         6848 non-null   bool    \n",
      " 12  slope       6492 non-null   category\n",
      " 13  age         6763 non-null   float64 \n",
      "dtypes: bool(3), category(6), float64(5)\n",
      "memory usage: 328.7 KB\n"
     ]
    }
   ],
   "source": [
    "hd_df.info()"
   ]
  },
  {
   "cell_type": "code",
   "execution_count": 17,
   "metadata": {},
   "outputs": [
    {
     "data": {
      "text/html": [
       "<div>\n",
       "<style scoped>\n",
       "    .dataframe tbody tr th:only-of-type {\n",
       "        vertical-align: middle;\n",
       "    }\n",
       "\n",
       "    .dataframe tbody tr th {\n",
       "        vertical-align: top;\n",
       "    }\n",
       "\n",
       "    .dataframe thead th {\n",
       "        text-align: right;\n",
       "    }\n",
       "</style>\n",
       "<table border=\"1\" class=\"dataframe\">\n",
       "  <thead>\n",
       "    <tr style=\"text-align: right;\">\n",
       "      <th></th>\n",
       "      <th>rest_ecg</th>\n",
       "      <th>ca</th>\n",
       "      <th>thal</th>\n",
       "      <th>max_hr</th>\n",
       "      <th>exang</th>\n",
       "      <th>old_peak</th>\n",
       "      <th>chol</th>\n",
       "      <th>rest_bp</th>\n",
       "      <th>chest_pain</th>\n",
       "      <th>disease</th>\n",
       "      <th>sex</th>\n",
       "      <th>fbs</th>\n",
       "      <th>slope</th>\n",
       "      <th>age</th>\n",
       "    </tr>\n",
       "  </thead>\n",
       "  <tbody>\n",
       "    <tr>\n",
       "      <th>1993</th>\n",
       "      <td>normal</td>\n",
       "      <td>0.0</td>\n",
       "      <td>normal</td>\n",
       "      <td>154.0</td>\n",
       "      <td>True</td>\n",
       "      <td>1.4</td>\n",
       "      <td>244.0</td>\n",
       "      <td>150.0</td>\n",
       "      <td>asymptomatic</td>\n",
       "      <td>True</td>\n",
       "      <td>Female</td>\n",
       "      <td>False</td>\n",
       "      <td>2.0</td>\n",
       "      <td>62.0</td>\n",
       "    </tr>\n",
       "    <tr>\n",
       "      <th>154</th>\n",
       "      <td>left ventricular hypertrophy</td>\n",
       "      <td>2.0</td>\n",
       "      <td>normal</td>\n",
       "      <td>125.0</td>\n",
       "      <td>True</td>\n",
       "      <td>0.9</td>\n",
       "      <td>299.0</td>\n",
       "      <td>100.0</td>\n",
       "      <td>asymptomatic</td>\n",
       "      <td>True</td>\n",
       "      <td>Male</td>\n",
       "      <td>False</td>\n",
       "      <td>2.0</td>\n",
       "      <td>67.0</td>\n",
       "    </tr>\n",
       "    <tr>\n",
       "      <th>2575</th>\n",
       "      <td>normal</td>\n",
       "      <td>0.0</td>\n",
       "      <td>normal</td>\n",
       "      <td>96.0</td>\n",
       "      <td>False</td>\n",
       "      <td>0.0</td>\n",
       "      <td>178.0</td>\n",
       "      <td>120.0</td>\n",
       "      <td>nonanginal</td>\n",
       "      <td>False</td>\n",
       "      <td>Female</td>\n",
       "      <td>True</td>\n",
       "      <td>1.0</td>\n",
       "      <td>60.0</td>\n",
       "    </tr>\n",
       "  </tbody>\n",
       "</table>\n",
       "</div>"
      ],
      "text/plain": [
       "                           rest_ecg   ca    thal  max_hr  exang  old_peak  \\\n",
       "1993                         normal  0.0  normal   154.0   True       1.4   \n",
       "154   left ventricular hypertrophy   2.0  normal   125.0   True       0.9   \n",
       "2575                         normal  0.0  normal    96.0  False       0.0   \n",
       "\n",
       "       chol  rest_bp    chest_pain  disease     sex    fbs slope   age  \n",
       "1993  244.0    150.0  asymptomatic     True  Female  False   2.0  62.0  \n",
       "154   299.0    100.0  asymptomatic     True    Male  False   2.0  67.0  \n",
       "2575  178.0    120.0    nonanginal    False  Female   True   1.0  60.0  "
      ]
     },
     "execution_count": 17,
     "metadata": {},
     "output_type": "execute_result"
    }
   ],
   "source": [
    "hd_df.sample(3)"
   ]
  },
  {
   "cell_type": "markdown",
   "metadata": {},
   "source": [
    "### **6. Save dataframe with data types**"
   ]
  },
  {
   "cell_type": "code",
   "execution_count": 18,
   "metadata": {},
   "outputs": [],
   "source": [
    "schema = pa.Table.from_pandas(hd_df).schema"
   ]
  },
  {
   "cell_type": "code",
   "execution_count": 19,
   "metadata": {},
   "outputs": [],
   "source": [
    "(DATA_DIR / \"02_intermediate\").mkdir(parents=True, exist_ok=True)\n",
    "\n",
    "# Save DataFrame in parquet format\n",
    "hd_df.to_parquet(DATA_DIR / \"02_intermediate/hd_type_fixed.parquet\", index=False, schema=schema)"
   ]
  },
  {
   "cell_type": "markdown",
   "metadata": {},
   "source": [
    "## **Analysis of Results**\n",
    "- There are more categorical values than numerical in this dataset.\n",
    "- There was no column removal because there are not too much nan values.\n",
    "- Weird values were replaced by nan values to make sure the data type convertion were correct.\n",
    "- The final dataframe were saved in parquet format."
   ]
  }
 ],
 "metadata": {
  "kernelspec": {
   "display_name": "senv",
   "language": "python",
   "name": "python3"
  },
  "language_info": {
   "codemirror_mode": {
    "name": "ipython",
    "version": 3
   },
   "file_extension": ".py",
   "mimetype": "text/x-python",
   "name": "python",
   "nbconvert_exporter": "python",
   "pygments_lexer": "ipython3",
   "version": "3.12.9"
  }
 },
 "nbformat": 4,
 "nbformat_minor": 2
}
