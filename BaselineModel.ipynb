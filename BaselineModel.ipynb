{
 "cells": [
  {
   "cell_type": "markdown",
   "metadata": {},
   "source": [
    "# **Heart Disease Prediction**\n",
    "\n",
    "## **Baseline Model**\n",
    "\n",
    "This notebook focuses on creating a **baseline model** using a heuristic approach to serve as a reference for comparing future machine learning models. The goal is to establish a simple yet informative starting point that helps evaluate improvements in predictive performance.\n",
    "\n",
    "All steps will be implemented using **scikit-learn** and other relevant libraries to ensure a structured and reproducible workflow.\n",
    "\n",
    "`Simón Correa Marín`\n"
   ]
  },
  {
   "cell_type": "markdown",
   "metadata": {},
   "source": [
    "The model will be based on the following rules based on the EDA and other analysis.\n",
    "\n",
    "1. Chest pain **'asymptomatic'** has 73.42% influence is heart disease prediction true.\n",
    "2. If it is a **man** it is most likely to have heart disease.\n",
    "3. If **fbs > 120mg/dL (True)** then it is most likely to not having heart disease.\n",
    "4. If the patient’s **age is between 50 and 60 years** its most likely yo have a heart disease.\n",
    "5. Heart disease likely happens to people with **max_hr (maximum heart rate) between 120 and 160**\n",
    "6. If **that is reversable** it is most likely to have heart disease.\n"
   ]
  },
  {
   "cell_type": "markdown",
   "metadata": {},
   "source": [
    "### **1. Import Libraries and Configurations**\n"
   ]
  },
  {
   "cell_type": "code",
   "execution_count": 87,
   "metadata": {},
   "outputs": [],
   "source": [
    "# base libraries for data science\n",
    "from pathlib import Path\n",
    "\n",
    "import matplotlib.pyplot as plt\n",
    "import numpy as np\n",
    "import pandas as pd\n",
    "from sklearn.base import BaseEstimator, ClassifierMixin\n",
    "from sklearn.compose import ColumnTransformer\n",
    "from sklearn.impute import SimpleImputer\n",
    "from sklearn.model_selection import (\n",
    "    KFold,\n",
    "    ShuffleSplit,\n",
    "    cross_val_score,\n",
    "    learning_curve,\n",
    "    train_test_split,\n",
    ")\n",
    "from sklearn.pipeline import Pipeline"
   ]
  },
  {
   "cell_type": "markdown",
   "metadata": {},
   "source": [
    "### **2. Load Data**\n"
   ]
  },
  {
   "cell_type": "code",
   "execution_count": 88,
   "metadata": {},
   "outputs": [],
   "source": [
    "DATA_DIR = Path.cwd().resolve().parents[0] / \"data\"\n",
    "\n",
    "hd_df = pd.read_parquet(DATA_DIR / \"02_intermediate/hd_type_fixed.parquet\", engine=\"pyarrow\")"
   ]
  },
  {
   "cell_type": "code",
   "execution_count": 89,
   "metadata": {},
   "outputs": [
    {
     "name": "stdout",
     "output_type": "stream",
     "text": [
      "Pandas version:  2.2.3\n"
     ]
    }
   ],
   "source": [
    "# print library version for reproducibility\n",
    "\n",
    "print(\"Pandas version: \", pd.__version__)"
   ]
  },
  {
   "cell_type": "markdown",
   "metadata": {},
   "source": [
    "### **3. Data Preparation**\n"
   ]
  },
  {
   "cell_type": "markdown",
   "metadata": {},
   "source": [
    "Based on the rules above, for the heuristic model only 6 columns are needed: `chest_pain`, `sex`,`fbs`,`age`,`max_hr`,`thal`\n"
   ]
  },
  {
   "cell_type": "code",
   "execution_count": 90,
   "metadata": {},
   "outputs": [
    {
     "name": "stdout",
     "output_type": "stream",
     "text": [
      "<class 'pandas.core.frame.DataFrame'>\n",
      "RangeIndex: 6848 entries, 0 to 6847\n",
      "Data columns (total 7 columns):\n",
      " #   Column      Non-Null Count  Dtype   \n",
      "---  ------      --------------  -----   \n",
      " 0   chest_pain  6648 non-null   category\n",
      " 1   sex         6692 non-null   category\n",
      " 2   fbs         6848 non-null   bool    \n",
      " 3   age         6763 non-null   float64 \n",
      " 4   max_hr      6453 non-null   float64 \n",
      " 5   thal        6552 non-null   category\n",
      " 6   disease     6848 non-null   bool    \n",
      "dtypes: bool(2), category(3), float64(2)\n",
      "memory usage: 141.0 KB\n"
     ]
    }
   ],
   "source": [
    "selected_features = [\"chest_pain\", \"sex\", \"fbs\", \"age\", \"max_hr\", \"thal\", \"disease\"]\n",
    "hd_features = hd_df[selected_features]\n",
    "hd_features.info()"
   ]
  },
  {
   "cell_type": "code",
   "execution_count": 91,
   "metadata": {},
   "outputs": [
    {
     "data": {
      "text/plain": [
       "chest_pain    200\n",
       "sex           156\n",
       "fbs             0\n",
       "age            85\n",
       "max_hr        395\n",
       "thal          296\n",
       "disease         0\n",
       "dtype: int64"
      ]
     },
     "execution_count": 91,
     "metadata": {},
     "output_type": "execute_result"
    }
   ],
   "source": [
    "hd_features.isna().sum()"
   ]
  },
  {
   "cell_type": "code",
   "execution_count": 92,
   "metadata": {},
   "outputs": [
    {
     "name": "stderr",
     "output_type": "stream",
     "text": [
      "/var/folders/x2/wzyt5ll12z77w4qw_gm51n8w0000gn/T/ipykernel_28929/760228322.py:2: FutureWarning: Setting an item of incompatible dtype is deprecated and will raise in a future error of pandas. Value '[0 0 1 ... 0 1 1]' has dtype incompatible with bool, please explicitly cast to a compatible dtype first.\n",
      "  hd_features.loc[:, \"disease\"] = hd_features[\"disease\"].astype(int)\n"
     ]
    }
   ],
   "source": [
    "# Change target data type to int (0,1)\n",
    "hd_features.loc[:, \"disease\"] = hd_features[\"disease\"].astype(int)"
   ]
  },
  {
   "cell_type": "markdown",
   "metadata": {},
   "source": [
    "#### **Duplicated Data**\n"
   ]
  },
  {
   "cell_type": "code",
   "execution_count": 93,
   "metadata": {},
   "outputs": [
    {
     "data": {
      "text/plain": [
       "474"
      ]
     },
     "execution_count": 93,
     "metadata": {},
     "output_type": "execute_result"
    }
   ],
   "source": [
    "len(hd_features.drop_duplicates())"
   ]
  },
  {
   "cell_type": "code",
   "execution_count": 94,
   "metadata": {},
   "outputs": [
    {
     "data": {
      "text/plain": [
       "(474, 7)"
      ]
     },
     "execution_count": 94,
     "metadata": {},
     "output_type": "execute_result"
    }
   ],
   "source": [
    "hd_features = hd_features.drop_duplicates()\n",
    "hd_features.shape"
   ]
  },
  {
   "cell_type": "markdown",
   "metadata": {},
   "source": [
    "Compared to the duplicates in the whole dataset (508) I'll be using the dataset with the duplicated rows dropped.\n"
   ]
  },
  {
   "cell_type": "code",
   "execution_count": 95,
   "metadata": {},
   "outputs": [
    {
     "name": "stdout",
     "output_type": "stream",
     "text": [
      "<class 'pandas.core.frame.DataFrame'>\n",
      "Index: 474 entries, 0 to 2423\n",
      "Data columns (total 7 columns):\n",
      " #   Column      Non-Null Count  Dtype   \n",
      "---  ------      --------------  -----   \n",
      " 0   chest_pain  417 non-null    category\n",
      " 1   sex         432 non-null    category\n",
      " 2   fbs         474 non-null    bool    \n",
      " 3   age         457 non-null    float64 \n",
      " 4   max_hr      363 non-null    float64 \n",
      " 5   thal        409 non-null    category\n",
      " 6   disease     474 non-null    int64   \n",
      "dtypes: bool(1), category(3), float64(2), int64(1)\n",
      "memory usage: 17.1 KB\n"
     ]
    }
   ],
   "source": [
    "hd_features.info()"
   ]
  },
  {
   "cell_type": "code",
   "execution_count": 96,
   "metadata": {},
   "outputs": [
    {
     "data": {
      "text/html": [
       "<div>\n",
       "<style scoped>\n",
       "    .dataframe tbody tr th:only-of-type {\n",
       "        vertical-align: middle;\n",
       "    }\n",
       "\n",
       "    .dataframe tbody tr th {\n",
       "        vertical-align: top;\n",
       "    }\n",
       "\n",
       "    .dataframe thead th {\n",
       "        text-align: right;\n",
       "    }\n",
       "</style>\n",
       "<table border=\"1\" class=\"dataframe\">\n",
       "  <thead>\n",
       "    <tr style=\"text-align: right;\">\n",
       "      <th></th>\n",
       "      <th>chest_pain</th>\n",
       "      <th>sex</th>\n",
       "      <th>fbs</th>\n",
       "      <th>age</th>\n",
       "      <th>max_hr</th>\n",
       "      <th>thal</th>\n",
       "      <th>disease</th>\n",
       "    </tr>\n",
       "  </thead>\n",
       "  <tbody>\n",
       "    <tr>\n",
       "      <th>638</th>\n",
       "      <td>asymptomatic</td>\n",
       "      <td>Male</td>\n",
       "      <td>False</td>\n",
       "      <td>40.0</td>\n",
       "      <td>NaN</td>\n",
       "      <td>NaN</td>\n",
       "      <td>1</td>\n",
       "    </tr>\n",
       "    <tr>\n",
       "      <th>681</th>\n",
       "      <td>nonanginal</td>\n",
       "      <td>Female</td>\n",
       "      <td>False</td>\n",
       "      <td>64.0</td>\n",
       "      <td>133.0</td>\n",
       "      <td>reversable</td>\n",
       "      <td>0</td>\n",
       "    </tr>\n",
       "    <tr>\n",
       "      <th>1029</th>\n",
       "      <td>NaN</td>\n",
       "      <td>NaN</td>\n",
       "      <td>True</td>\n",
       "      <td>55.0</td>\n",
       "      <td>NaN</td>\n",
       "      <td>normal</td>\n",
       "      <td>0</td>\n",
       "    </tr>\n",
       "    <tr>\n",
       "      <th>194</th>\n",
       "      <td>asymptomatic</td>\n",
       "      <td>Female</td>\n",
       "      <td>False</td>\n",
       "      <td>51.0</td>\n",
       "      <td>142.0</td>\n",
       "      <td>reversable</td>\n",
       "      <td>1</td>\n",
       "    </tr>\n",
       "    <tr>\n",
       "      <th>148</th>\n",
       "      <td>asymptomatic</td>\n",
       "      <td>Male</td>\n",
       "      <td>False</td>\n",
       "      <td>64.0</td>\n",
       "      <td>105.0</td>\n",
       "      <td>reversable</td>\n",
       "      <td>0</td>\n",
       "    </tr>\n",
       "    <tr>\n",
       "      <th>135</th>\n",
       "      <td>asymptomatic</td>\n",
       "      <td>Male</td>\n",
       "      <td>False</td>\n",
       "      <td>66.0</td>\n",
       "      <td>132.0</td>\n",
       "      <td>normal</td>\n",
       "      <td>1</td>\n",
       "    </tr>\n",
       "    <tr>\n",
       "      <th>2239</th>\n",
       "      <td>nonanginal</td>\n",
       "      <td>Male</td>\n",
       "      <td>True</td>\n",
       "      <td>59.0</td>\n",
       "      <td>NaN</td>\n",
       "      <td>NaN</td>\n",
       "      <td>1</td>\n",
       "    </tr>\n",
       "    <tr>\n",
       "      <th>1903</th>\n",
       "      <td>nontypical</td>\n",
       "      <td>Female</td>\n",
       "      <td>False</td>\n",
       "      <td>55.0</td>\n",
       "      <td>166.0</td>\n",
       "      <td>normal</td>\n",
       "      <td>0</td>\n",
       "    </tr>\n",
       "    <tr>\n",
       "      <th>618</th>\n",
       "      <td>nonanginal</td>\n",
       "      <td>Female</td>\n",
       "      <td>False</td>\n",
       "      <td>42.0</td>\n",
       "      <td>173.0</td>\n",
       "      <td>normal</td>\n",
       "      <td>1</td>\n",
       "    </tr>\n",
       "    <tr>\n",
       "      <th>0</th>\n",
       "      <td>nontypical</td>\n",
       "      <td>Male</td>\n",
       "      <td>False</td>\n",
       "      <td>52.0</td>\n",
       "      <td>158.0</td>\n",
       "      <td>normal</td>\n",
       "      <td>0</td>\n",
       "    </tr>\n",
       "  </tbody>\n",
       "</table>\n",
       "</div>"
      ],
      "text/plain": [
       "        chest_pain     sex    fbs   age  max_hr        thal  disease\n",
       "638   asymptomatic    Male  False  40.0     NaN         NaN        1\n",
       "681     nonanginal  Female  False  64.0   133.0  reversable        0\n",
       "1029           NaN     NaN   True  55.0     NaN      normal        0\n",
       "194   asymptomatic  Female  False  51.0   142.0  reversable        1\n",
       "148   asymptomatic    Male  False  64.0   105.0  reversable        0\n",
       "135   asymptomatic    Male  False  66.0   132.0      normal        1\n",
       "2239    nonanginal    Male   True  59.0     NaN         NaN        1\n",
       "1903    nontypical  Female  False  55.0   166.0      normal        0\n",
       "618     nonanginal  Female  False  42.0   173.0      normal        1\n",
       "0       nontypical    Male  False  52.0   158.0      normal        0"
      ]
     },
     "execution_count": 96,
     "metadata": {},
     "output_type": "execute_result"
    }
   ],
   "source": [
    "hd_features.sample(10)"
   ]
  },
  {
   "cell_type": "markdown",
   "metadata": {},
   "source": [
    "### **4. Feature Engineering**\n"
   ]
  },
  {
   "cell_type": "code",
   "execution_count": 97,
   "metadata": {},
   "outputs": [],
   "source": [
    "nom_categorical_cols = [\"chest_pain\", \"thal\", \"sex\"]\n",
    "disc_numerical_cols = [\"age\", \"max_hr\"]\n",
    "boolean_cols = [\"fbs\"]  # Doesn't need to be transformed (no nans)"
   ]
  },
  {
   "cell_type": "markdown",
   "metadata": {},
   "source": [
    "#### **Pipeline**\n"
   ]
  },
  {
   "cell_type": "code",
   "execution_count": null,
   "metadata": {},
   "outputs": [],
   "source": [
    "from sklearn.preprocessing import FunctionTransformer\n",
    "\n",
    "numeric_pipe = Pipeline(\n",
    "    steps=[\n",
    "        (\"imputer\", SimpleImputer(strategy=\"median\")),\n",
    "    ]\n",
    ")\n",
    "\n",
    "nom_categorical_pipe = Pipeline(\n",
    "    steps=[\n",
    "        (\"imputer\", SimpleImputer(strategy=\"most_frequent\")),\n",
    "    ]\n",
    ")\n",
    "\n",
    "boolean_pipe = Pipeline(\n",
    "    steps=[\n",
    "        (\n",
    "            \"to_int\",\n",
    "            FunctionTransformer(lambda x: x.astype(\"int64\"), feature_names_out=\"one-to-one\"),\n",
    "        ),\n",
    "        (\"imputer\", SimpleImputer(strategy=\"most_frequent\")),\n",
    "    ]\n",
    ")\n",
    "\n",
    "preprocessor = ColumnTransformer(\n",
    "    transformers=[\n",
    "        (\"numeric\", numeric_pipe, disc_numerical_cols),\n",
    "        (\"nominal_categoric\", nom_categorical_pipe, nom_categorical_cols),\n",
    "        (\"boolean\", boolean_pipe, boolean_cols),\n",
    "    ]\n",
    ")"
   ]
  },
  {
   "cell_type": "code",
   "execution_count": 99,
   "metadata": {},
   "outputs": [
    {
     "data": {
      "text/html": [
       "<style>#sk-container-id-4 {\n",
       "  /* Definition of color scheme common for light and dark mode */\n",
       "  --sklearn-color-text: #000;\n",
       "  --sklearn-color-text-muted: #666;\n",
       "  --sklearn-color-line: gray;\n",
       "  /* Definition of color scheme for unfitted estimators */\n",
       "  --sklearn-color-unfitted-level-0: #fff5e6;\n",
       "  --sklearn-color-unfitted-level-1: #f6e4d2;\n",
       "  --sklearn-color-unfitted-level-2: #ffe0b3;\n",
       "  --sklearn-color-unfitted-level-3: chocolate;\n",
       "  /* Definition of color scheme for fitted estimators */\n",
       "  --sklearn-color-fitted-level-0: #f0f8ff;\n",
       "  --sklearn-color-fitted-level-1: #d4ebff;\n",
       "  --sklearn-color-fitted-level-2: #b3dbfd;\n",
       "  --sklearn-color-fitted-level-3: cornflowerblue;\n",
       "\n",
       "  /* Specific color for light theme */\n",
       "  --sklearn-color-text-on-default-background: var(--sg-text-color, var(--theme-code-foreground, var(--jp-content-font-color1, black)));\n",
       "  --sklearn-color-background: var(--sg-background-color, var(--theme-background, var(--jp-layout-color0, white)));\n",
       "  --sklearn-color-border-box: var(--sg-text-color, var(--theme-code-foreground, var(--jp-content-font-color1, black)));\n",
       "  --sklearn-color-icon: #696969;\n",
       "\n",
       "  @media (prefers-color-scheme: dark) {\n",
       "    /* Redefinition of color scheme for dark theme */\n",
       "    --sklearn-color-text-on-default-background: var(--sg-text-color, var(--theme-code-foreground, var(--jp-content-font-color1, white)));\n",
       "    --sklearn-color-background: var(--sg-background-color, var(--theme-background, var(--jp-layout-color0, #111)));\n",
       "    --sklearn-color-border-box: var(--sg-text-color, var(--theme-code-foreground, var(--jp-content-font-color1, white)));\n",
       "    --sklearn-color-icon: #878787;\n",
       "  }\n",
       "}\n",
       "\n",
       "#sk-container-id-4 {\n",
       "  color: var(--sklearn-color-text);\n",
       "}\n",
       "\n",
       "#sk-container-id-4 pre {\n",
       "  padding: 0;\n",
       "}\n",
       "\n",
       "#sk-container-id-4 input.sk-hidden--visually {\n",
       "  border: 0;\n",
       "  clip: rect(1px 1px 1px 1px);\n",
       "  clip: rect(1px, 1px, 1px, 1px);\n",
       "  height: 1px;\n",
       "  margin: -1px;\n",
       "  overflow: hidden;\n",
       "  padding: 0;\n",
       "  position: absolute;\n",
       "  width: 1px;\n",
       "}\n",
       "\n",
       "#sk-container-id-4 div.sk-dashed-wrapped {\n",
       "  border: 1px dashed var(--sklearn-color-line);\n",
       "  margin: 0 0.4em 0.5em 0.4em;\n",
       "  box-sizing: border-box;\n",
       "  padding-bottom: 0.4em;\n",
       "  background-color: var(--sklearn-color-background);\n",
       "}\n",
       "\n",
       "#sk-container-id-4 div.sk-container {\n",
       "  /* jupyter's `normalize.less` sets `[hidden] { display: none; }`\n",
       "     but bootstrap.min.css set `[hidden] { display: none !important; }`\n",
       "     so we also need the `!important` here to be able to override the\n",
       "     default hidden behavior on the sphinx rendered scikit-learn.org.\n",
       "     See: https://github.com/scikit-learn/scikit-learn/issues/21755 */\n",
       "  display: inline-block !important;\n",
       "  position: relative;\n",
       "}\n",
       "\n",
       "#sk-container-id-4 div.sk-text-repr-fallback {\n",
       "  display: none;\n",
       "}\n",
       "\n",
       "div.sk-parallel-item,\n",
       "div.sk-serial,\n",
       "div.sk-item {\n",
       "  /* draw centered vertical line to link estimators */\n",
       "  background-image: linear-gradient(var(--sklearn-color-text-on-default-background), var(--sklearn-color-text-on-default-background));\n",
       "  background-size: 2px 100%;\n",
       "  background-repeat: no-repeat;\n",
       "  background-position: center center;\n",
       "}\n",
       "\n",
       "/* Parallel-specific style estimator block */\n",
       "\n",
       "#sk-container-id-4 div.sk-parallel-item::after {\n",
       "  content: \"\";\n",
       "  width: 100%;\n",
       "  border-bottom: 2px solid var(--sklearn-color-text-on-default-background);\n",
       "  flex-grow: 1;\n",
       "}\n",
       "\n",
       "#sk-container-id-4 div.sk-parallel {\n",
       "  display: flex;\n",
       "  align-items: stretch;\n",
       "  justify-content: center;\n",
       "  background-color: var(--sklearn-color-background);\n",
       "  position: relative;\n",
       "}\n",
       "\n",
       "#sk-container-id-4 div.sk-parallel-item {\n",
       "  display: flex;\n",
       "  flex-direction: column;\n",
       "}\n",
       "\n",
       "#sk-container-id-4 div.sk-parallel-item:first-child::after {\n",
       "  align-self: flex-end;\n",
       "  width: 50%;\n",
       "}\n",
       "\n",
       "#sk-container-id-4 div.sk-parallel-item:last-child::after {\n",
       "  align-self: flex-start;\n",
       "  width: 50%;\n",
       "}\n",
       "\n",
       "#sk-container-id-4 div.sk-parallel-item:only-child::after {\n",
       "  width: 0;\n",
       "}\n",
       "\n",
       "/* Serial-specific style estimator block */\n",
       "\n",
       "#sk-container-id-4 div.sk-serial {\n",
       "  display: flex;\n",
       "  flex-direction: column;\n",
       "  align-items: center;\n",
       "  background-color: var(--sklearn-color-background);\n",
       "  padding-right: 1em;\n",
       "  padding-left: 1em;\n",
       "}\n",
       "\n",
       "\n",
       "/* Toggleable style: style used for estimator/Pipeline/ColumnTransformer box that is\n",
       "clickable and can be expanded/collapsed.\n",
       "- Pipeline and ColumnTransformer use this feature and define the default style\n",
       "- Estimators will overwrite some part of the style using the `sk-estimator` class\n",
       "*/\n",
       "\n",
       "/* Pipeline and ColumnTransformer style (default) */\n",
       "\n",
       "#sk-container-id-4 div.sk-toggleable {\n",
       "  /* Default theme specific background. It is overwritten whether we have a\n",
       "  specific estimator or a Pipeline/ColumnTransformer */\n",
       "  background-color: var(--sklearn-color-background);\n",
       "}\n",
       "\n",
       "/* Toggleable label */\n",
       "#sk-container-id-4 label.sk-toggleable__label {\n",
       "  cursor: pointer;\n",
       "  display: flex;\n",
       "  width: 100%;\n",
       "  margin-bottom: 0;\n",
       "  padding: 0.5em;\n",
       "  box-sizing: border-box;\n",
       "  text-align: center;\n",
       "  align-items: start;\n",
       "  justify-content: space-between;\n",
       "  gap: 0.5em;\n",
       "}\n",
       "\n",
       "#sk-container-id-4 label.sk-toggleable__label .caption {\n",
       "  font-size: 0.6rem;\n",
       "  font-weight: lighter;\n",
       "  color: var(--sklearn-color-text-muted);\n",
       "}\n",
       "\n",
       "#sk-container-id-4 label.sk-toggleable__label-arrow:before {\n",
       "  /* Arrow on the left of the label */\n",
       "  content: \"▸\";\n",
       "  float: left;\n",
       "  margin-right: 0.25em;\n",
       "  color: var(--sklearn-color-icon);\n",
       "}\n",
       "\n",
       "#sk-container-id-4 label.sk-toggleable__label-arrow:hover:before {\n",
       "  color: var(--sklearn-color-text);\n",
       "}\n",
       "\n",
       "/* Toggleable content - dropdown */\n",
       "\n",
       "#sk-container-id-4 div.sk-toggleable__content {\n",
       "  max-height: 0;\n",
       "  max-width: 0;\n",
       "  overflow: hidden;\n",
       "  text-align: left;\n",
       "  /* unfitted */\n",
       "  background-color: var(--sklearn-color-unfitted-level-0);\n",
       "}\n",
       "\n",
       "#sk-container-id-4 div.sk-toggleable__content.fitted {\n",
       "  /* fitted */\n",
       "  background-color: var(--sklearn-color-fitted-level-0);\n",
       "}\n",
       "\n",
       "#sk-container-id-4 div.sk-toggleable__content pre {\n",
       "  margin: 0.2em;\n",
       "  border-radius: 0.25em;\n",
       "  color: var(--sklearn-color-text);\n",
       "  /* unfitted */\n",
       "  background-color: var(--sklearn-color-unfitted-level-0);\n",
       "}\n",
       "\n",
       "#sk-container-id-4 div.sk-toggleable__content.fitted pre {\n",
       "  /* unfitted */\n",
       "  background-color: var(--sklearn-color-fitted-level-0);\n",
       "}\n",
       "\n",
       "#sk-container-id-4 input.sk-toggleable__control:checked~div.sk-toggleable__content {\n",
       "  /* Expand drop-down */\n",
       "  max-height: 200px;\n",
       "  max-width: 100%;\n",
       "  overflow: auto;\n",
       "}\n",
       "\n",
       "#sk-container-id-4 input.sk-toggleable__control:checked~label.sk-toggleable__label-arrow:before {\n",
       "  content: \"▾\";\n",
       "}\n",
       "\n",
       "/* Pipeline/ColumnTransformer-specific style */\n",
       "\n",
       "#sk-container-id-4 div.sk-label input.sk-toggleable__control:checked~label.sk-toggleable__label {\n",
       "  color: var(--sklearn-color-text);\n",
       "  background-color: var(--sklearn-color-unfitted-level-2);\n",
       "}\n",
       "\n",
       "#sk-container-id-4 div.sk-label.fitted input.sk-toggleable__control:checked~label.sk-toggleable__label {\n",
       "  background-color: var(--sklearn-color-fitted-level-2);\n",
       "}\n",
       "\n",
       "/* Estimator-specific style */\n",
       "\n",
       "/* Colorize estimator box */\n",
       "#sk-container-id-4 div.sk-estimator input.sk-toggleable__control:checked~label.sk-toggleable__label {\n",
       "  /* unfitted */\n",
       "  background-color: var(--sklearn-color-unfitted-level-2);\n",
       "}\n",
       "\n",
       "#sk-container-id-4 div.sk-estimator.fitted input.sk-toggleable__control:checked~label.sk-toggleable__label {\n",
       "  /* fitted */\n",
       "  background-color: var(--sklearn-color-fitted-level-2);\n",
       "}\n",
       "\n",
       "#sk-container-id-4 div.sk-label label.sk-toggleable__label,\n",
       "#sk-container-id-4 div.sk-label label {\n",
       "  /* The background is the default theme color */\n",
       "  color: var(--sklearn-color-text-on-default-background);\n",
       "}\n",
       "\n",
       "/* On hover, darken the color of the background */\n",
       "#sk-container-id-4 div.sk-label:hover label.sk-toggleable__label {\n",
       "  color: var(--sklearn-color-text);\n",
       "  background-color: var(--sklearn-color-unfitted-level-2);\n",
       "}\n",
       "\n",
       "/* Label box, darken color on hover, fitted */\n",
       "#sk-container-id-4 div.sk-label.fitted:hover label.sk-toggleable__label.fitted {\n",
       "  color: var(--sklearn-color-text);\n",
       "  background-color: var(--sklearn-color-fitted-level-2);\n",
       "}\n",
       "\n",
       "/* Estimator label */\n",
       "\n",
       "#sk-container-id-4 div.sk-label label {\n",
       "  font-family: monospace;\n",
       "  font-weight: bold;\n",
       "  display: inline-block;\n",
       "  line-height: 1.2em;\n",
       "}\n",
       "\n",
       "#sk-container-id-4 div.sk-label-container {\n",
       "  text-align: center;\n",
       "}\n",
       "\n",
       "/* Estimator-specific */\n",
       "#sk-container-id-4 div.sk-estimator {\n",
       "  font-family: monospace;\n",
       "  border: 1px dotted var(--sklearn-color-border-box);\n",
       "  border-radius: 0.25em;\n",
       "  box-sizing: border-box;\n",
       "  margin-bottom: 0.5em;\n",
       "  /* unfitted */\n",
       "  background-color: var(--sklearn-color-unfitted-level-0);\n",
       "}\n",
       "\n",
       "#sk-container-id-4 div.sk-estimator.fitted {\n",
       "  /* fitted */\n",
       "  background-color: var(--sklearn-color-fitted-level-0);\n",
       "}\n",
       "\n",
       "/* on hover */\n",
       "#sk-container-id-4 div.sk-estimator:hover {\n",
       "  /* unfitted */\n",
       "  background-color: var(--sklearn-color-unfitted-level-2);\n",
       "}\n",
       "\n",
       "#sk-container-id-4 div.sk-estimator.fitted:hover {\n",
       "  /* fitted */\n",
       "  background-color: var(--sklearn-color-fitted-level-2);\n",
       "}\n",
       "\n",
       "/* Specification for estimator info (e.g. \"i\" and \"?\") */\n",
       "\n",
       "/* Common style for \"i\" and \"?\" */\n",
       "\n",
       ".sk-estimator-doc-link,\n",
       "a:link.sk-estimator-doc-link,\n",
       "a:visited.sk-estimator-doc-link {\n",
       "  float: right;\n",
       "  font-size: smaller;\n",
       "  line-height: 1em;\n",
       "  font-family: monospace;\n",
       "  background-color: var(--sklearn-color-background);\n",
       "  border-radius: 1em;\n",
       "  height: 1em;\n",
       "  width: 1em;\n",
       "  text-decoration: none !important;\n",
       "  margin-left: 0.5em;\n",
       "  text-align: center;\n",
       "  /* unfitted */\n",
       "  border: var(--sklearn-color-unfitted-level-1) 1pt solid;\n",
       "  color: var(--sklearn-color-unfitted-level-1);\n",
       "}\n",
       "\n",
       ".sk-estimator-doc-link.fitted,\n",
       "a:link.sk-estimator-doc-link.fitted,\n",
       "a:visited.sk-estimator-doc-link.fitted {\n",
       "  /* fitted */\n",
       "  border: var(--sklearn-color-fitted-level-1) 1pt solid;\n",
       "  color: var(--sklearn-color-fitted-level-1);\n",
       "}\n",
       "\n",
       "/* On hover */\n",
       "div.sk-estimator:hover .sk-estimator-doc-link:hover,\n",
       ".sk-estimator-doc-link:hover,\n",
       "div.sk-label-container:hover .sk-estimator-doc-link:hover,\n",
       ".sk-estimator-doc-link:hover {\n",
       "  /* unfitted */\n",
       "  background-color: var(--sklearn-color-unfitted-level-3);\n",
       "  color: var(--sklearn-color-background);\n",
       "  text-decoration: none;\n",
       "}\n",
       "\n",
       "div.sk-estimator.fitted:hover .sk-estimator-doc-link.fitted:hover,\n",
       ".sk-estimator-doc-link.fitted:hover,\n",
       "div.sk-label-container:hover .sk-estimator-doc-link.fitted:hover,\n",
       ".sk-estimator-doc-link.fitted:hover {\n",
       "  /* fitted */\n",
       "  background-color: var(--sklearn-color-fitted-level-3);\n",
       "  color: var(--sklearn-color-background);\n",
       "  text-decoration: none;\n",
       "}\n",
       "\n",
       "/* Span, style for the box shown on hovering the info icon */\n",
       ".sk-estimator-doc-link span {\n",
       "  display: none;\n",
       "  z-index: 9999;\n",
       "  position: relative;\n",
       "  font-weight: normal;\n",
       "  right: .2ex;\n",
       "  padding: .5ex;\n",
       "  margin: .5ex;\n",
       "  width: min-content;\n",
       "  min-width: 20ex;\n",
       "  max-width: 50ex;\n",
       "  color: var(--sklearn-color-text);\n",
       "  box-shadow: 2pt 2pt 4pt #999;\n",
       "  /* unfitted */\n",
       "  background: var(--sklearn-color-unfitted-level-0);\n",
       "  border: .5pt solid var(--sklearn-color-unfitted-level-3);\n",
       "}\n",
       "\n",
       ".sk-estimator-doc-link.fitted span {\n",
       "  /* fitted */\n",
       "  background: var(--sklearn-color-fitted-level-0);\n",
       "  border: var(--sklearn-color-fitted-level-3);\n",
       "}\n",
       "\n",
       ".sk-estimator-doc-link:hover span {\n",
       "  display: block;\n",
       "}\n",
       "\n",
       "/* \"?\"-specific style due to the `<a>` HTML tag */\n",
       "\n",
       "#sk-container-id-4 a.estimator_doc_link {\n",
       "  float: right;\n",
       "  font-size: 1rem;\n",
       "  line-height: 1em;\n",
       "  font-family: monospace;\n",
       "  background-color: var(--sklearn-color-background);\n",
       "  border-radius: 1rem;\n",
       "  height: 1rem;\n",
       "  width: 1rem;\n",
       "  text-decoration: none;\n",
       "  /* unfitted */\n",
       "  color: var(--sklearn-color-unfitted-level-1);\n",
       "  border: var(--sklearn-color-unfitted-level-1) 1pt solid;\n",
       "}\n",
       "\n",
       "#sk-container-id-4 a.estimator_doc_link.fitted {\n",
       "  /* fitted */\n",
       "  border: var(--sklearn-color-fitted-level-1) 1pt solid;\n",
       "  color: var(--sklearn-color-fitted-level-1);\n",
       "}\n",
       "\n",
       "/* On hover */\n",
       "#sk-container-id-4 a.estimator_doc_link:hover {\n",
       "  /* unfitted */\n",
       "  background-color: var(--sklearn-color-unfitted-level-3);\n",
       "  color: var(--sklearn-color-background);\n",
       "  text-decoration: none;\n",
       "}\n",
       "\n",
       "#sk-container-id-4 a.estimator_doc_link.fitted:hover {\n",
       "  /* fitted */\n",
       "  background-color: var(--sklearn-color-fitted-level-3);\n",
       "}\n",
       "</style><div id=\"sk-container-id-4\" class=\"sk-top-container\"><div class=\"sk-text-repr-fallback\"><pre>ColumnTransformer(transformers=[(&#x27;numeric&#x27;,\n",
       "                                 Pipeline(steps=[(&#x27;imputer&#x27;,\n",
       "                                                  SimpleImputer(strategy=&#x27;median&#x27;))]),\n",
       "                                 [&#x27;age&#x27;, &#x27;max_hr&#x27;]),\n",
       "                                (&#x27;nominal_categoric&#x27;,\n",
       "                                 Pipeline(steps=[(&#x27;imputer&#x27;,\n",
       "                                                  SimpleImputer(strategy=&#x27;most_frequent&#x27;))]),\n",
       "                                 [&#x27;chest_pain&#x27;, &#x27;thal&#x27;, &#x27;sex&#x27;]),\n",
       "                                (&#x27;boolean&#x27;,\n",
       "                                 Pipeline(steps=[(&#x27;to_int&#x27;,\n",
       "                                                  FunctionTransformer(feature_names_out=&#x27;one-to-one&#x27;,\n",
       "                                                                      func=&lt;function &lt;lambda&gt; at 0x124abd760&gt;)),\n",
       "                                                 (&#x27;imputer&#x27;,\n",
       "                                                  SimpleImputer(strategy=&#x27;most_frequent&#x27;))]),\n",
       "                                 [&#x27;fbs&#x27;])])</pre><b>In a Jupyter environment, please rerun this cell to show the HTML representation or trust the notebook. <br />On GitHub, the HTML representation is unable to render, please try loading this page with nbviewer.org.</b></div><div class=\"sk-container\" hidden><div class=\"sk-item sk-dashed-wrapped\"><div class=\"sk-label-container\"><div class=\"sk-label  sk-toggleable\"><input class=\"sk-toggleable__control sk-hidden--visually\" id=\"sk-estimator-id-25\" type=\"checkbox\" ><label for=\"sk-estimator-id-25\" class=\"sk-toggleable__label  sk-toggleable__label-arrow\"><div><div>ColumnTransformer</div></div><div><a class=\"sk-estimator-doc-link \" rel=\"noreferrer\" target=\"_blank\" href=\"https://scikit-learn.org/1.6/modules/generated/sklearn.compose.ColumnTransformer.html\">?<span>Documentation for ColumnTransformer</span></a><span class=\"sk-estimator-doc-link \">i<span>Not fitted</span></span></div></label><div class=\"sk-toggleable__content \"><pre>ColumnTransformer(transformers=[(&#x27;numeric&#x27;,\n",
       "                                 Pipeline(steps=[(&#x27;imputer&#x27;,\n",
       "                                                  SimpleImputer(strategy=&#x27;median&#x27;))]),\n",
       "                                 [&#x27;age&#x27;, &#x27;max_hr&#x27;]),\n",
       "                                (&#x27;nominal_categoric&#x27;,\n",
       "                                 Pipeline(steps=[(&#x27;imputer&#x27;,\n",
       "                                                  SimpleImputer(strategy=&#x27;most_frequent&#x27;))]),\n",
       "                                 [&#x27;chest_pain&#x27;, &#x27;thal&#x27;, &#x27;sex&#x27;]),\n",
       "                                (&#x27;boolean&#x27;,\n",
       "                                 Pipeline(steps=[(&#x27;to_int&#x27;,\n",
       "                                                  FunctionTransformer(feature_names_out=&#x27;one-to-one&#x27;,\n",
       "                                                                      func=&lt;function &lt;lambda&gt; at 0x124abd760&gt;)),\n",
       "                                                 (&#x27;imputer&#x27;,\n",
       "                                                  SimpleImputer(strategy=&#x27;most_frequent&#x27;))]),\n",
       "                                 [&#x27;fbs&#x27;])])</pre></div> </div></div><div class=\"sk-parallel\"><div class=\"sk-parallel-item\"><div class=\"sk-item\"><div class=\"sk-label-container\"><div class=\"sk-label  sk-toggleable\"><input class=\"sk-toggleable__control sk-hidden--visually\" id=\"sk-estimator-id-26\" type=\"checkbox\" ><label for=\"sk-estimator-id-26\" class=\"sk-toggleable__label  sk-toggleable__label-arrow\"><div><div>numeric</div></div></label><div class=\"sk-toggleable__content \"><pre>[&#x27;age&#x27;, &#x27;max_hr&#x27;]</pre></div> </div></div><div class=\"sk-serial\"><div class=\"sk-item\"><div class=\"sk-serial\"><div class=\"sk-item\"><div class=\"sk-estimator  sk-toggleable\"><input class=\"sk-toggleable__control sk-hidden--visually\" id=\"sk-estimator-id-27\" type=\"checkbox\" ><label for=\"sk-estimator-id-27\" class=\"sk-toggleable__label  sk-toggleable__label-arrow\"><div><div>SimpleImputer</div></div><div><a class=\"sk-estimator-doc-link \" rel=\"noreferrer\" target=\"_blank\" href=\"https://scikit-learn.org/1.6/modules/generated/sklearn.impute.SimpleImputer.html\">?<span>Documentation for SimpleImputer</span></a></div></label><div class=\"sk-toggleable__content \"><pre>SimpleImputer(strategy=&#x27;median&#x27;)</pre></div> </div></div></div></div></div></div></div><div class=\"sk-parallel-item\"><div class=\"sk-item\"><div class=\"sk-label-container\"><div class=\"sk-label  sk-toggleable\"><input class=\"sk-toggleable__control sk-hidden--visually\" id=\"sk-estimator-id-28\" type=\"checkbox\" ><label for=\"sk-estimator-id-28\" class=\"sk-toggleable__label  sk-toggleable__label-arrow\"><div><div>nominal_categoric</div></div></label><div class=\"sk-toggleable__content \"><pre>[&#x27;chest_pain&#x27;, &#x27;thal&#x27;, &#x27;sex&#x27;]</pre></div> </div></div><div class=\"sk-serial\"><div class=\"sk-item\"><div class=\"sk-serial\"><div class=\"sk-item\"><div class=\"sk-estimator  sk-toggleable\"><input class=\"sk-toggleable__control sk-hidden--visually\" id=\"sk-estimator-id-29\" type=\"checkbox\" ><label for=\"sk-estimator-id-29\" class=\"sk-toggleable__label  sk-toggleable__label-arrow\"><div><div>SimpleImputer</div></div><div><a class=\"sk-estimator-doc-link \" rel=\"noreferrer\" target=\"_blank\" href=\"https://scikit-learn.org/1.6/modules/generated/sklearn.impute.SimpleImputer.html\">?<span>Documentation for SimpleImputer</span></a></div></label><div class=\"sk-toggleable__content \"><pre>SimpleImputer(strategy=&#x27;most_frequent&#x27;)</pre></div> </div></div></div></div></div></div></div><div class=\"sk-parallel-item\"><div class=\"sk-item\"><div class=\"sk-label-container\"><div class=\"sk-label  sk-toggleable\"><input class=\"sk-toggleable__control sk-hidden--visually\" id=\"sk-estimator-id-30\" type=\"checkbox\" ><label for=\"sk-estimator-id-30\" class=\"sk-toggleable__label  sk-toggleable__label-arrow\"><div><div>boolean</div></div></label><div class=\"sk-toggleable__content \"><pre>[&#x27;fbs&#x27;]</pre></div> </div></div><div class=\"sk-serial\"><div class=\"sk-item\"><div class=\"sk-serial\"><div class=\"sk-item\"><div class=\"sk-estimator  sk-toggleable\"><input class=\"sk-toggleable__control sk-hidden--visually\" id=\"sk-estimator-id-31\" type=\"checkbox\" ><label for=\"sk-estimator-id-31\" class=\"sk-toggleable__label  sk-toggleable__label-arrow\"><div><div>&lt;lambda&gt;</div><div class=\"caption\">FunctionTransformer</div></div><div><a class=\"sk-estimator-doc-link \" rel=\"noreferrer\" target=\"_blank\" href=\"https://scikit-learn.org/1.6/modules/generated/sklearn.preprocessing.FunctionTransformer.html\">?<span>Documentation for FunctionTransformer</span></a></div></label><div class=\"sk-toggleable__content \"><pre>FunctionTransformer(feature_names_out=&#x27;one-to-one&#x27;,\n",
       "                    func=&lt;function &lt;lambda&gt; at 0x124abd760&gt;)</pre></div> </div></div><div class=\"sk-item\"><div class=\"sk-estimator  sk-toggleable\"><input class=\"sk-toggleable__control sk-hidden--visually\" id=\"sk-estimator-id-32\" type=\"checkbox\" ><label for=\"sk-estimator-id-32\" class=\"sk-toggleable__label  sk-toggleable__label-arrow\"><div><div>SimpleImputer</div></div><div><a class=\"sk-estimator-doc-link \" rel=\"noreferrer\" target=\"_blank\" href=\"https://scikit-learn.org/1.6/modules/generated/sklearn.impute.SimpleImputer.html\">?<span>Documentation for SimpleImputer</span></a></div></label><div class=\"sk-toggleable__content \"><pre>SimpleImputer(strategy=&#x27;most_frequent&#x27;)</pre></div> </div></div></div></div></div></div></div></div></div></div></div>"
      ],
      "text/plain": [
       "ColumnTransformer(transformers=[('numeric',\n",
       "                                 Pipeline(steps=[('imputer',\n",
       "                                                  SimpleImputer(strategy='median'))]),\n",
       "                                 ['age', 'max_hr']),\n",
       "                                ('nominal_categoric',\n",
       "                                 Pipeline(steps=[('imputer',\n",
       "                                                  SimpleImputer(strategy='most_frequent'))]),\n",
       "                                 ['chest_pain', 'thal', 'sex']),\n",
       "                                ('boolean',\n",
       "                                 Pipeline(steps=[('to_int',\n",
       "                                                  FunctionTransformer(feature_names_out='one-to-one',\n",
       "                                                                      func=<function <lambda> at 0x124abd760>)),\n",
       "                                                 ('imputer',\n",
       "                                                  SimpleImputer(strategy='most_frequent'))]),\n",
       "                                 ['fbs'])])"
      ]
     },
     "execution_count": 99,
     "metadata": {},
     "output_type": "execute_result"
    }
   ],
   "source": [
    "preprocessor"
   ]
  },
  {
   "cell_type": "markdown",
   "metadata": {},
   "source": [
    "**Data preprocessing example**\n"
   ]
  },
  {
   "cell_type": "code",
   "execution_count": 100,
   "metadata": {},
   "outputs": [
    {
     "data": {
      "text/html": [
       "<div>\n",
       "<style scoped>\n",
       "    .dataframe tbody tr th:only-of-type {\n",
       "        vertical-align: middle;\n",
       "    }\n",
       "\n",
       "    .dataframe tbody tr th {\n",
       "        vertical-align: top;\n",
       "    }\n",
       "\n",
       "    .dataframe thead th {\n",
       "        text-align: right;\n",
       "    }\n",
       "</style>\n",
       "<table border=\"1\" class=\"dataframe\">\n",
       "  <thead>\n",
       "    <tr style=\"text-align: right;\">\n",
       "      <th></th>\n",
       "      <th>chest_pain</th>\n",
       "      <th>sex</th>\n",
       "      <th>fbs</th>\n",
       "      <th>age</th>\n",
       "      <th>max_hr</th>\n",
       "      <th>thal</th>\n",
       "    </tr>\n",
       "  </thead>\n",
       "  <tbody>\n",
       "    <tr>\n",
       "      <th>1899</th>\n",
       "      <td>asymptomatic</td>\n",
       "      <td>Male</td>\n",
       "      <td>True</td>\n",
       "      <td>55.0</td>\n",
       "      <td>NaN</td>\n",
       "      <td>reversable</td>\n",
       "    </tr>\n",
       "    <tr>\n",
       "      <th>2042</th>\n",
       "      <td>nonanginal</td>\n",
       "      <td>Female</td>\n",
       "      <td>False</td>\n",
       "      <td>76.0</td>\n",
       "      <td>NaN</td>\n",
       "      <td>NaN</td>\n",
       "    </tr>\n",
       "    <tr>\n",
       "      <th>10</th>\n",
       "      <td>asymptomatic</td>\n",
       "      <td>Female</td>\n",
       "      <td>False</td>\n",
       "      <td>62.0</td>\n",
       "      <td>163.0</td>\n",
       "      <td>normal</td>\n",
       "    </tr>\n",
       "    <tr>\n",
       "      <th>2362</th>\n",
       "      <td>nontypical</td>\n",
       "      <td>Female</td>\n",
       "      <td>False</td>\n",
       "      <td>45.0</td>\n",
       "      <td>138.0</td>\n",
       "      <td>NaN</td>\n",
       "    </tr>\n",
       "    <tr>\n",
       "      <th>42</th>\n",
       "      <td>nonanginal</td>\n",
       "      <td>Male</td>\n",
       "      <td>False</td>\n",
       "      <td>44.0</td>\n",
       "      <td>169.0</td>\n",
       "      <td>normal</td>\n",
       "    </tr>\n",
       "    <tr>\n",
       "      <th>36</th>\n",
       "      <td>asymptomatic</td>\n",
       "      <td>Male</td>\n",
       "      <td>False</td>\n",
       "      <td>47.0</td>\n",
       "      <td>143.0</td>\n",
       "      <td>normal</td>\n",
       "    </tr>\n",
       "    <tr>\n",
       "      <th>2294</th>\n",
       "      <td>asymptomatic</td>\n",
       "      <td>Female</td>\n",
       "      <td>False</td>\n",
       "      <td>71.0</td>\n",
       "      <td>NaN</td>\n",
       "      <td>NaN</td>\n",
       "    </tr>\n",
       "    <tr>\n",
       "      <th>532</th>\n",
       "      <td>asymptomatic</td>\n",
       "      <td>Male</td>\n",
       "      <td>False</td>\n",
       "      <td>61.0</td>\n",
       "      <td>161.0</td>\n",
       "      <td>reversable</td>\n",
       "    </tr>\n",
       "    <tr>\n",
       "      <th>91</th>\n",
       "      <td>asymptomatic</td>\n",
       "      <td>Male</td>\n",
       "      <td>False</td>\n",
       "      <td>44.0</td>\n",
       "      <td>177.0</td>\n",
       "      <td>normal</td>\n",
       "    </tr>\n",
       "    <tr>\n",
       "      <th>59</th>\n",
       "      <td>typical</td>\n",
       "      <td>Female</td>\n",
       "      <td>True</td>\n",
       "      <td>58.0</td>\n",
       "      <td>NaN</td>\n",
       "      <td>NaN</td>\n",
       "    </tr>\n",
       "  </tbody>\n",
       "</table>\n",
       "</div>"
      ],
      "text/plain": [
       "        chest_pain     sex    fbs   age  max_hr        thal\n",
       "1899  asymptomatic    Male   True  55.0     NaN  reversable\n",
       "2042    nonanginal  Female  False  76.0     NaN         NaN\n",
       "10    asymptomatic  Female  False  62.0   163.0      normal\n",
       "2362    nontypical  Female  False  45.0   138.0         NaN\n",
       "42      nonanginal    Male  False  44.0   169.0      normal\n",
       "36    asymptomatic    Male  False  47.0   143.0      normal\n",
       "2294  asymptomatic  Female  False  71.0     NaN         NaN\n",
       "532   asymptomatic    Male  False  61.0   161.0  reversable\n",
       "91    asymptomatic    Male  False  44.0   177.0      normal\n",
       "59         typical  Female   True  58.0     NaN         NaN"
      ]
     },
     "execution_count": 100,
     "metadata": {},
     "output_type": "execute_result"
    }
   ],
   "source": [
    "data_example = hd_features.drop(columns=\"disease\").sample(10, random_state=42)\n",
    "data_example"
   ]
  },
  {
   "cell_type": "code",
   "execution_count": 101,
   "metadata": {},
   "outputs": [
    {
     "data": {
      "text/plain": [
       "array([[55.0, 162.0, 'asymptomatic', 'reversable', 'Male', 1],\n",
       "       [76.0, 162.0, 'nonanginal', 'normal', 'Female', 0],\n",
       "       [62.0, 163.0, 'asymptomatic', 'normal', 'Female', 0],\n",
       "       [45.0, 138.0, 'nontypical', 'normal', 'Female', 0],\n",
       "       [44.0, 169.0, 'nonanginal', 'normal', 'Male', 0],\n",
       "       [47.0, 143.0, 'asymptomatic', 'normal', 'Male', 0],\n",
       "       [71.0, 162.0, 'asymptomatic', 'normal', 'Female', 0],\n",
       "       [61.0, 161.0, 'asymptomatic', 'reversable', 'Male', 0],\n",
       "       [44.0, 177.0, 'asymptomatic', 'normal', 'Male', 0],\n",
       "       [58.0, 162.0, 'typical', 'normal', 'Female', 1]], dtype=object)"
      ]
     },
     "execution_count": 101,
     "metadata": {},
     "output_type": "execute_result"
    }
   ],
   "source": [
    "preprocessor.fit_transform(data_example)"
   ]
  },
  {
   "cell_type": "markdown",
   "metadata": {},
   "source": [
    "### **5. Train/Test split**\n"
   ]
  },
  {
   "cell_type": "code",
   "execution_count": 102,
   "metadata": {},
   "outputs": [],
   "source": [
    "X_features = hd_features.drop(\"disease\", axis=\"columns\")\n",
    "Y_target = hd_features[\"disease\"]\n",
    "\n",
    "# 80% train, 20% test\n",
    "x_train, x_test, y_train, y_test = train_test_split(\n",
    "    X_features, Y_target, test_size=0.2, stratify=Y_target\n",
    ")"
   ]
  },
  {
   "cell_type": "code",
   "execution_count": 103,
   "metadata": {},
   "outputs": [
    {
     "data": {
      "text/plain": [
       "((379, 6), (379,), (95, 6), (95,))"
      ]
     },
     "execution_count": 103,
     "metadata": {},
     "output_type": "execute_result"
    }
   ],
   "source": [
    "x_train.shape, y_train.shape, x_test.shape, y_test.shape"
   ]
  },
  {
   "cell_type": "markdown",
   "metadata": {},
   "source": [
    "**Data preprocessing**\n"
   ]
  },
  {
   "cell_type": "code",
   "execution_count": 104,
   "metadata": {},
   "outputs": [],
   "source": [
    "transformed_data = preprocessor.fit(x_train)"
   ]
  },
  {
   "cell_type": "code",
   "execution_count": 105,
   "metadata": {},
   "outputs": [
    {
     "name": "stdout",
     "output_type": "stream",
     "text": [
      "<class 'pandas.core.frame.DataFrame'>\n",
      "RangeIndex: 379 entries, 0 to 378\n",
      "Data columns (total 6 columns):\n",
      " #   Column                         Non-Null Count  Dtype \n",
      "---  ------                         --------------  ----- \n",
      " 0   numeric__age                   379 non-null    object\n",
      " 1   numeric__max_hr                379 non-null    object\n",
      " 2   nominal_categoric__chest_pain  379 non-null    object\n",
      " 3   nominal_categoric__thal        379 non-null    object\n",
      " 4   nominal_categoric__sex         379 non-null    object\n",
      " 5   boolean__fbs                   379 non-null    object\n",
      "dtypes: object(6)\n",
      "memory usage: 17.9+ KB\n"
     ]
    }
   ],
   "source": [
    "feature_names = preprocessor.get_feature_names_out()\n",
    "\n",
    "# Transform X_test with preprocessor and pandas output set\n",
    "x_train_transformed = preprocessor.transform(x_train)\n",
    "x_train_transformed = pd.DataFrame(x_train_transformed, columns=feature_names)\n",
    "x_train_transformed.info()"
   ]
  },
  {
   "cell_type": "markdown",
   "metadata": {},
   "source": [
    "### **6. Model**\n"
   ]
  },
  {
   "cell_type": "code",
   "execution_count": 106,
   "metadata": {},
   "outputs": [],
   "source": [
    "class HeuristicModel(BaseEstimator, ClassifierMixin):\n",
    "    def fit(self, _, y=None):\n",
    "        if y is not None:\n",
    "            self.classes_ = np.unique(y)\n",
    "        return self\n",
    "\n",
    "    def predict(self, X) -> np.ndarray:\n",
    "        CHEST_PAIN_THRESHOLD = \"asymptomatic\"  # High risk if chest pain is asymptomatic\n",
    "        SEX_HIGH_RISK = \"Male\"  # Males are at higher risk\n",
    "        FBS_THRESHOLD = 0  # If fasting blood sugar is not > 120 mg/dL, lower risk\n",
    "        AGE_LOW, AGE_HIGH = 55, 65  # High-risk age range\n",
    "        MAX_HR_LOW, MAX_HR_HIGH = 150, 170  # Low-risk max heart rate range\n",
    "        THAL_HIGH_RISK = \"normal\"  # Thal normal results indicating no risk\n",
    "\n",
    "        predictions = []\n",
    "        for row in X:\n",
    "            if (\n",
    "                (AGE_LOW <= row[0] <= AGE_HIGH)\n",
    "                or (row[1] < MAX_HR_LOW)\n",
    "                or (row[1] > MAX_HR_HIGH)\n",
    "                or (row[2] == CHEST_PAIN_THRESHOLD)\n",
    "                or (row[3] != THAL_HIGH_RISK)\n",
    "                or (row[4] == SEX_HIGH_RISK)\n",
    "                or (row[5] != FBS_THRESHOLD)\n",
    "            ):\n",
    "                predictions.append(1)\n",
    "            else:\n",
    "                predictions.append(0)\n",
    "\n",
    "        return np.array(predictions)"
   ]
  },
  {
   "cell_type": "markdown",
   "metadata": {},
   "source": [
    "### **7. Predict and Evaluation**\n"
   ]
  },
  {
   "cell_type": "code",
   "execution_count": 107,
   "metadata": {},
   "outputs": [
    {
     "name": "stdout",
     "output_type": "stream",
     "text": [
      "accuracy - CV mean: 0.5540540540540541, CV std: 0.07400820819695615\n",
      "accuracy - Train score: 0.554089709762533\n",
      "f1 - CV mean: 0.6958565904543761, CV std: 0.06169855491880738\n",
      "f1 - Train score: 0.554089709762533\n",
      "precision - CV mean: 0.5463868476771702, CV std: 0.07380963404791048\n",
      "precision - Train score: 0.554089709762533\n",
      "recall - CV mean: 0.9720374552983249, CV std: 0.03930801120044392\n",
      "recall - Train score: 0.554089709762533\n"
     ]
    },
    {
     "data": {
      "text/plain": [
       "<Axes: title={'center': 'Cross Validation Boxplot'}, ylabel='Score'>"
      ]
     },
     "execution_count": 107,
     "metadata": {},
     "output_type": "execute_result"
    },
    {
     "data": {
      "image/png": "[encoded data removed]",
      "text/plain": [
       "<Figure size 640x480 with 1 Axes>"
      ]
     },
     "metadata": {},
     "output_type": "display_data"
    }
   ],
   "source": [
    "# Model\n",
    "model = HeuristicModel()\n",
    "\n",
    "# Evaluation metrics\n",
    "scoring_metrics = [\"accuracy\", \"f1\", \"precision\", \"recall\"]\n",
    "\n",
    "# KFold for the cross-validation\n",
    "kfold = KFold(n_splits=10)\n",
    "\n",
    "# Model pipeline = preprocessor + model\n",
    "model_pipe = Pipeline(steps=[(\"preprocessor\", preprocessor), (\"model\", model)])\n",
    "\n",
    "# Variable to store the results of the cross-validation\n",
    "cv_results = {}\n",
    "train_results = {}\n",
    "\n",
    "# Cross-validation evaluation for each metric\n",
    "for metric in scoring_metrics:\n",
    "    cv_results[metric] = cross_val_score(model_pipe, x_train, y_train, cv=kfold, scoring=metric)\n",
    "    # Evaluate on the training set\n",
    "    model_pipe.fit(x_train, y_train)\n",
    "    train_results[metric] = model_pipe.score(x_train, y_train)\n",
    "\n",
    "# Convert results into a pandas DataFrame\n",
    "cv_results_df = pd.DataFrame(cv_results)\n",
    "\n",
    "# Print the mean and standard deviation for each metric\n",
    "for metric_name in scoring_metrics:\n",
    "    print(\n",
    "        f\"{metric_name} - CV mean: {cv_results_df[metric_name].mean()}, \"\n",
    "        f\"CV std: {cv_results_df[metric_name].std()}\"\n",
    "    )\n",
    "    print(f\"{metric_name} - Train score: {train_results[metric_name]}\")\n",
    "\n",
    "# Create a boxplot for the cross-validation results of each metric\n",
    "cv_results_df.plot.box(title=\"Cross Validation Boxplot\", ylabel=\"Score\")"
   ]
  },
  {
   "cell_type": "code",
   "execution_count": 108,
   "metadata": {},
   "outputs": [
    {
     "data": {
      "text/plain": [
       "<Axes: title={'center': 'Training vs Cross-Validation Scores'}, xlabel='Metric', ylabel='Score'>"
      ]
     },
     "execution_count": 108,
     "metadata": {},
     "output_type": "execute_result"
    },
    {
     "data": {
      "image/png": "[encoded data removed]",
      "text/plain": [
       "<Figure size 640x480 with 1 Axes>"
      ]
     },
     "metadata": {},
     "output_type": "display_data"
    }
   ],
   "source": [
    "# Create a DataFrame for the training and cross-validation metrics\n",
    "metrics_df = pd.DataFrame(\n",
    "    {\n",
    "        \"Metric\": scoring_metrics,\n",
    "        \"Train Score\": [train_results[metric] for metric in scoring_metrics],\n",
    "        \"CV Mean\": [cv_results_df[metric].mean() for metric in scoring_metrics],\n",
    "        \"CV Std\": [cv_results_df[metric].std() for metric in scoring_metrics],\n",
    "    }\n",
    ")\n",
    "\n",
    "# Create a bar plot for the training and cross-validation metrics\n",
    "metrics_df.plot(\n",
    "    kind=\"bar\",\n",
    "    x=\"Metric\",\n",
    "    y=[\"Train Score\", \"CV Mean\"],\n",
    "    yerr=\"CV Std\",\n",
    "    title=\"Training vs Cross-Validation Scores\",\n",
    "    ylabel=\"Score\",\n",
    "    capsize=4,\n",
    ")"
   ]
  },
  {
   "cell_type": "markdown",
   "metadata": {},
   "source": [
    "### **Analysis of the Results of All Metrics**\n"
   ]
  },
  {
   "cell_type": "markdown",
   "metadata": {},
   "source": [
    "#### **Accuracy**\n",
    "\n",
    "- **CV Mean:** 0.5541\n",
    "- **CV Std:** 0.0740\n",
    "- **Train Score:** 0.5541\n",
    "\n",
    "**Interpretation:**  \n",
    "The accuracy on the training set is nearly identical to the cross-validation mean accuracy, indicating that the model generalizes similarly on training and validation data. The standard deviation suggests moderate variability in accuracy across different folds, meaning the model's performance is not entirely stable.\n",
    "\n",
    "#### **F1 Score**\n",
    "\n",
    "- **CV Mean:** 0.6959\n",
    "- **CV Std:** 0.0617\n",
    "- **Train Score:** 0.5541\n",
    "\n",
    "**Interpretation:**  \n",
    "The F1 score on the training set is noticeably lower than the cross-validation mean F1 score. This suggests that while the model achieves a balanced precision and recall across validation sets, its ability to do so on the training set is not as strong. The standard deviation indicates some variation in F1 score across different folds.\n",
    "\n",
    "#### **Precision**\n",
    "\n",
    "- **CV Mean:** 0.5464\n",
    "- **CV Std:** 0.0738\n",
    "- **Train Score:** 0.5541\n",
    "\n",
    "**Interpretation:**  \n",
    "The precision on the training set is slightly higher than the cross-validation mean precision. The moderate standard deviation implies that precision fluctuates across different validation folds, but not drastically.\n",
    "\n",
    "#### **Recall**\n",
    "\n",
    "- **CV Mean:** 0.9720\n",
    "- **CV Std:** 0.0393\n",
    "- **Train Score:** 0.5541\n",
    "\n",
    "**Interpretation:**  \n",
    "The recall score on cross-validation is very high (0.972), meaning the model correctly identifies most positive cases. However, the recall on the training set is significantly lower, indicating a discrepancy between training and validation performance. The relatively low standard deviation suggests that recall remains consistent across different validation folds.\n",
    "\n",
    "---\n",
    "\n",
    "### **Overall Conclusion**\n",
    "\n",
    "The model exhibits **high recall**, which means it is effective at capturing positive cases, making it well-suited for scenarios where **missing a positive case is critical**, such as heart disease prediction. However, the relatively **low precision and accuracy** indicate a trade-off, where the model classifies a large number of **false positives**. The **moderate variability** in accuracy, precision, and F1 score across folds suggests some inconsistency in performance.\n"
   ]
  },
  {
   "cell_type": "markdown",
   "metadata": {},
   "source": [
    "### **8. Final Evaluation**\n"
   ]
  },
  {
   "cell_type": "code",
   "execution_count": 109,
   "metadata": {},
   "outputs": [],
   "source": [
    "from sklearn.metrics import (\n",
    "    ConfusionMatrixDisplay,\n",
    "    PrecisionRecallDisplay,\n",
    "    classification_report,\n",
    ")"
   ]
  },
  {
   "cell_type": "code",
   "execution_count": 110,
   "metadata": {},
   "outputs": [
    {
     "name": "stdout",
     "output_type": "stream",
     "text": [
      "              precision    recall  f1-score   support\n",
      "\n",
      "           0       1.00      0.07      0.12        45\n",
      "           1       0.54      1.00      0.70        50\n",
      "\n",
      "    accuracy                           0.56        95\n",
      "   macro avg       0.77      0.53      0.41        95\n",
      "weighted avg       0.76      0.56      0.43        95\n",
      "\n"
     ]
    }
   ],
   "source": [
    "y_pred = model_pipe.predict(x_test)\n",
    "print(classification_report(y_test, y_pred))"
   ]
  },
  {
   "cell_type": "code",
   "execution_count": 111,
   "metadata": {},
   "outputs": [
    {
     "data": {
      "text/plain": [
       "<sklearn.metrics._plot.confusion_matrix.ConfusionMatrixDisplay at 0x124bbd400>"
      ]
     },
     "execution_count": 111,
     "metadata": {},
     "output_type": "execute_result"
    },
    {
     "data": {
      "image/png": "[encoded data removed]",
      "text/plain": [
       "<Figure size 640x480 with 2 Axes>"
      ]
     },
     "metadata": {},
     "output_type": "display_data"
    }
   ],
   "source": [
    "ConfusionMatrixDisplay.from_predictions(y_test, y_pred)"
   ]
  },
  {
   "cell_type": "code",
   "execution_count": 112,
   "metadata": {},
   "outputs": [
    {
     "data": {
      "image/png": "[encoded data removed]",
      "text/plain": [
       "<Figure size 640x480 with 1 Axes>"
      ]
     },
     "metadata": {},
     "output_type": "display_data"
    }
   ],
   "source": [
    "PrecisionRecallDisplay.from_predictions(y_test, y_pred);"
   ]
  },
  {
   "cell_type": "markdown",
   "metadata": {},
   "source": [
    "### **Chosen Metric: Recall**\n",
    "\n",
    "#### **Why Recall?**\n",
    "\n",
    "For heart disease prediction, **recall** is the most important metric because the primary goal is to **correctly identify as many patients with heart disease as possible**. Missing a case of heart disease (false negative) can have severe consequences, including delayed diagnosis and treatment, which could be life-threatening.\n",
    "\n",
    "#### **Understanding Recall in This Context**\n",
    "\n",
    "- **High recall** ensures that most patients who actually have heart disease are correctly classified as positive cases.\n",
    "- **False negatives (missed cases of heart disease)** are minimized, reducing the risk of undiagnosed conditions.\n",
    "- **False positives (healthy patients misclassified as having heart disease)** are a less critical issue compared to false negatives because additional medical tests can confirm the diagnosis.\n",
    "\n",
    "#### **Conclusion**\n",
    "\n",
    "Since the model's objective is to **prioritize detecting heart disease cases**, **recall is the best metric** for evaluation. A model with high recall ensures that the majority of patients at risk receive further medical attention, ultimately improving early detection and treatment outcomes.\n"
   ]
  },
  {
   "cell_type": "code",
   "execution_count": 113,
   "metadata": {},
   "outputs": [
    {
     "data": {
      "image/png": "[encoded data removed]",
      "text/plain": [
       "<Figure size 1000x600 with 1 Axes>"
      ]
     },
     "metadata": {},
     "output_type": "display_data"
    },
    {
     "name": "stdout",
     "output_type": "stream",
     "text": [
      "Training Sizes: [ 30  98 166 234 303]\n",
      "Training Scores Mean: [0.98002496 0.97560164 0.9721567  0.97093954 0.96895279]\n",
      "Training Scores Std: [0.03636528 0.02012081 0.01764426 0.01171459 0.00599203]\n",
      "Test Scores Mean: [0.98588337 0.97907512 0.97853612 0.97604363 0.97500309]\n",
      "Test Scores Std: [0.02150185 0.02434817 0.02472779 0.0242801  0.02378433]\n"
     ]
    }
   ],
   "source": [
    "# Define pipeline = preprocessor + model\n",
    "model = HeuristicModel()\n",
    "model_pipe = Pipeline(steps=[(\"preprocessor\", preprocessor), (\"model\", model)])\n",
    "\n",
    "# Parameters for the learning curve\n",
    "common_params = {\n",
    "    \"X\": x_train,\n",
    "    \"y\": y_train,\n",
    "    \"train_sizes\": np.linspace(0.1, 1.0, 5),\n",
    "    \"cv\": ShuffleSplit(n_splits=50, test_size=0.2, random_state=123),\n",
    "    \"n_jobs\": -1,\n",
    "    \"return_times\": True,\n",
    "}\n",
    "\n",
    "scoring_metric = \"recall\"\n",
    "\n",
    "# Obtain the learning curve values including fit and score times\n",
    "train_sizes, train_scores, test_scores, fit_times, score_times = learning_curve(\n",
    "    model_pipe, **common_params, scoring=scoring_metric\n",
    ")\n",
    "\n",
    "# Calculate the mean and standard deviation of the scores\n",
    "train_mean = np.mean(train_scores, axis=1)\n",
    "train_std = np.std(train_scores, axis=1)\n",
    "test_mean = np.mean(test_scores, axis=1)\n",
    "test_std = np.std(test_scores, axis=1)\n",
    "\n",
    "# Calculate the mean and standard deviation of the fit and score times\n",
    "fit_times_mean = np.mean(fit_times, axis=1)\n",
    "fit_times_std = np.std(fit_times, axis=1)\n",
    "score_times_mean = np.mean(score_times, axis=1)\n",
    "score_times_std = np.std(score_times, axis=1)\n",
    "\n",
    "# Plot the learning curve\n",
    "fig, ax = plt.subplots(nrows=1, ncols=1, figsize=(10, 6), sharey=True)\n",
    "ax.plot(train_sizes, train_mean, \"o-\", label=\"Training score\")\n",
    "ax.plot(train_sizes, test_mean, \"o-\", color=\"orange\", label=\"Cross-validation score\")\n",
    "ax.fill_between(train_sizes, train_mean - train_std, train_mean + train_std, alpha=0.3)\n",
    "ax.fill_between(train_sizes, test_mean - test_std, test_mean + test_std, alpha=0.3, color=\"orange\")\n",
    "\n",
    "# Configure the title and labels\n",
    "ax.set_title(f\"Learning Curve for {model.__class__.__name__}\")\n",
    "ax.set_xlabel(\"Training examples\")\n",
    "ax.set_ylabel(scoring_metric)\n",
    "ax.legend(loc=\"best\")\n",
    "\n",
    "# Show the plot\n",
    "plt.show()\n",
    "\n",
    "# Print the values for analysis\n",
    "print(\"Training Sizes:\", train_sizes)\n",
    "print(\"Training Scores Mean:\", train_mean)\n",
    "print(\"Training Scores Std:\", train_std)\n",
    "print(\"Test Scores Mean:\", test_mean)\n",
    "print(\"Test Scores Std:\", test_std)"
   ]
  },
  {
   "cell_type": "code",
   "execution_count": 114,
   "metadata": {},
   "outputs": [
    {
     "data": {
      "image/png": "[encoded data removed]",
      "text/plain": [
       "<Figure size 1000x1200 with 2 Axes>"
      ]
     },
     "metadata": {},
     "output_type": "display_data"
    },
    {
     "name": "stdout",
     "output_type": "stream",
     "text": [
      "Fit Times Mean: [0.00864674 0.00964081 0.0089828  0.00730305 0.00910325]\n",
      "Fit Times Std: [0.00554531 0.00516279 0.00478157 0.00372969 0.0053541 ]\n",
      "Score Times Mean: [0.0077523  0.00728379 0.00612816 0.00713258 0.00777856]\n",
      "Score Times Std: [0.00505402 0.00445447 0.00291644 0.00435496 0.00476794]\n"
     ]
    }
   ],
   "source": [
    "# Plot the scalability regarding fit time and score time\n",
    "fig, ax = plt.subplots(nrows=2, ncols=1, figsize=(10, 12), sharex=True)\n",
    "\n",
    "# Scalability regarding the fit time\n",
    "ax[0].plot(train_sizes, fit_times_mean, \"o-\")\n",
    "ax[0].fill_between(\n",
    "    train_sizes,\n",
    "    fit_times_mean - fit_times_std,\n",
    "    fit_times_mean + fit_times_std,\n",
    "    alpha=0.3,\n",
    ")\n",
    "ax[0].set_ylabel(\"Fit time (s)\")\n",
    "ax[0].set_title(f\"Scalability of the {model.__class__.__name__} classifier\")\n",
    "\n",
    "# Scalability regarding the score time\n",
    "ax[1].plot(train_sizes, score_times_mean, \"o-\")\n",
    "ax[1].fill_between(\n",
    "    train_sizes,\n",
    "    score_times_mean - score_times_std,\n",
    "    score_times_mean + score_times_std,\n",
    "    alpha=0.3,\n",
    ")\n",
    "ax[1].set_ylabel(\"Score time (s)\")\n",
    "ax[1].set_xlabel(\"Number of training samples\")\n",
    "\n",
    "# Show the plot\n",
    "plt.show()\n",
    "\n",
    "# Print the fit and score times for analysis\n",
    "print(\"Fit Times Mean:\", fit_times_mean)\n",
    "print(\"Fit Times Std:\", fit_times_std)\n",
    "print(\"Score Times Mean:\", score_times_mean)\n",
    "print(\"Score Times Std:\", score_times_std)"
   ]
  },
  {
   "cell_type": "markdown",
   "metadata": {},
   "source": [
    "### **Interpretation of the Learning Curve based on Recall only**\n"
   ]
  },
  {
   "cell_type": "markdown",
   "metadata": {},
   "source": [
    "### **Learning Curve Analysis**\n",
    "\n",
    "#### **Training Scores**\n",
    "\n",
    "- **Mean:** [0.9800, 0.9756, 0.9722, 0.9709, 0.9690]\n",
    "- **Standard Deviation:** [0.0364, 0.0201, 0.0176, 0.0117, 0.0060]\n",
    "\n",
    "**Interpretation:**  \n",
    "The training recall score starts high at **0.9800** and slightly decreases to **0.9690** as more data is added.  \n",
    "The standard deviation decreases as the training size increases, indicating that the model’s performance on the training set becomes more **consistent** with more data.\n",
    "\n",
    "#### **Test Scores**\n",
    "\n",
    "- **Mean:** [0.9859, 0.9791, 0.9785, 0.9760, 0.9750]\n",
    "- **Standard Deviation:** [0.0215, 0.0243, 0.0247, 0.0243, 0.0238]\n",
    "\n",
    "**Interpretation:**  \n",
    "The test recall score is **consistently high**, with minor variations, maintaining values around **0.9750 - 0.9859**.  \n",
    "The standard deviation remains relatively stable, indicating that the model’s **performance on the test set is consistent** across different folds of cross-validation.\n",
    "\n",
    "#### **Fit Times**\n",
    "\n",
    "- **Mean:** [0.0086, 0.0096, 0.0090, 0.0073, 0.0091]\n",
    "- **Standard Deviation:** [0.0055, 0.0052, 0.0048, 0.0037, 0.0054]\n",
    "\n",
    "**Interpretation:**  \n",
    "The fit times are **low and stable**, with minor fluctuations as the training size increases.  \n",
    "The standard deviation is also low, suggesting **consistent training times** across different folds.\n",
    "\n",
    "#### **Score Times**\n",
    "\n",
    "- **Mean:** [0.0078, 0.0073, 0.0061, 0.0071, 0.0078]\n",
    "- **Standard Deviation:** [0.0051, 0.0045, 0.0029, 0.0044, 0.0048]\n",
    "\n",
    "**Interpretation:**  \n",
    "The score times remain **low and stable**, with minimal variation as the training size increases.  \n",
    "The low standard deviation indicates **consistent evaluation times** across different folds.\n",
    "\n",
    "---\n",
    "\n",
    "### **Model Performance Evaluation**\n",
    "\n",
    "| Metric        | NO Heart Disease | Heart Disease | Macro Avg | Weighted Avg |\n",
    "| ------------- | ---------------- | ------------- | --------- | ------------ |\n",
    "| **Precision** | 1.00             | 0.54          | 0.77      | 0.76         |\n",
    "| **Recall**    | 0.07             | 1.00          | 0.53      | 0.56         |\n",
    "| **F1-Score**  | 0.12             | 0.70          | 0.41      | 0.43         |\n",
    "| **Accuracy**  | -                | -             | -         | 0.56         |\n",
    "\n",
    "**Interpretation:**\n",
    "\n",
    "- The model has a **high recall (1.00) for class 1 (disease)**, meaning it **correctly identifies all positive cases**.\n",
    "- However, **precision for class 1 (disease) is low (0.54)**, indicating a high **false positive rate**.\n",
    "- The **recall for class 0 (no disease) is very low (0.07)**, meaning the model **fails to correctly classify most negative cases**.\n",
    "- The **overall accuracy is 0.56**, suggesting the model is biased towards predicting class 1 (disease).\n"
   ]
  },
  {
   "cell_type": "markdown",
   "metadata": {},
   "source": [
    "### **9. Conclusions**\n",
    "\n",
    "#### **General Results**\n",
    "\n",
    "**Model Performance:**  \n",
    "The **training and test recall scores are stable**, indicating that the model performs **consistently well** across both datasets.  \n",
    "The minimal difference between training and test scores suggests that **the model generalizes well** to unseen data and is **not overfitting**.\n",
    "\n",
    "**Consistency:**  \n",
    "The **decreasing standard deviation of the training scores** with more data suggests that the model’s performance on the training set becomes **more stable and reliable** as the dataset grows.  \n",
    "The **relatively stable standard deviation in test scores** indicates that the model maintains consistent performance across different validation folds.\n",
    "\n",
    "**Scalability:**  \n",
    "The **fit and score times are low and stable**, indicating that the model is **computationally efficient** and scales well with increasing training sizes.\n",
    "\n",
    "**To improveme:**\n",
    "\n",
    "- The **very low recall for class 0 (0.07)** suggests the model is **heavily biased towards predicting class 1**.\n",
    "- Increasing **precision for class 1** while improving **recall for class 0** should be a priority.\n",
    "- Possible solutions include **adjusting decision thresholds**, **balancing the dataset**, or **exploring different algorithms**.\n"
   ]
  }
 ],
 "metadata": {
  "kernelspec": {
   "display_name": "senv",
   "language": "python",
   "name": "python3"
  },
  "language_info": {
   "codemirror_mode": {
    "name": "ipython",
    "version": 3
   },
   "file_extension": ".py",
   "mimetype": "text/x-python",
   "name": "python",
   "nbconvert_exporter": "python",
   "pygments_lexer": "ipython3",
   "version": "3.12.9"
  }
 },
 "nbformat": 4,
 "nbformat_minor": 2
}
